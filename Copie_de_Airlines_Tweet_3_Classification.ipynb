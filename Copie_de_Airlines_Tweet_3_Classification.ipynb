{
  "cells": [
    {
      "cell_type": "markdown",
      "metadata": {
        "id": "view-in-github",
        "colab_type": "text"
      },
      "source": [
        "<a href=\"https://colab.research.google.com/github/freha-mezzoudj/NLP_airline_tweets/blob/main/Copie_de_Airlines_Tweet_3_Classification.ipynb\" target=\"_parent\"><img src=\"https://colab.research.google.com/assets/colab-badge.svg\" alt=\"Open In Colab\"/></a>"
      ]
    },
    {
      "cell_type": "code",
      "execution_count": null,
      "id": "f8028cb0",
      "metadata": {
        "colab": {
          "base_uri": "https://localhost:8080/"
        },
        "id": "f8028cb0",
        "outputId": "3e70d724-0d49-4455-efe5-c0b59f9afbcd"
      },
      "outputs": [
        {
          "output_type": "stream",
          "name": "stdout",
          "text": [
            "Looking in indexes: https://pypi.org/simple, https://us-python.pkg.dev/colab-wheels/public/simple/\n",
            "Collecting unidecode\n",
            "  Downloading Unidecode-1.3.4-py3-none-any.whl (235 kB)\n",
            "\u001b[K     |████████████████████████████████| 235 kB 4.3 MB/s \n",
            "\u001b[?25hInstalling collected packages: unidecode\n",
            "Successfully installed unidecode-1.3.4\n"
          ]
        }
      ],
      "source": [
        "import pandas as pd # Linear Algebra\n",
        "from pandas import read_excel # data processing, CSV file I/O (e.g. pd.read_csv)\n",
        "import numpy as np\n",
        "#!pip install re\n",
        "!pip install unidecode\n",
        "import re\n",
        "from re import sub\n",
        "import multiprocessing\n",
        "from unidecode import unidecode\n",
        "import os\n",
        "from time import time \n",
        "import tensorflow as tf\n",
        "import keras\n",
        "from keras.models import Sequential\n",
        "from keras.layers import LSTM,Dense,Dropout,Activation,Embedding,Flatten,Bidirectional,MaxPooling2D, Conv1D, MaxPooling1D\n",
        "\n",
        "from tensorflow.keras.optimizers import SGD,Adam\n",
        "\n",
        "from keras import regularizers\n",
        "from keras.preprocessing.text import Tokenizer\n",
        "from keras.preprocessing.sequence import pad_sequences\n",
        "from keras.utils.np_utils import to_categorical\n",
        "import h5py\n",
        "import csv\n",
        "import seaborn as sns\n",
        "import matplotlib.pyplot as plt\n",
        "from sklearn.model_selection import train_test_split\n",
        "from sklearn.model_selection import StratifiedKFold\n",
        "from sklearn.feature_extraction.text import CountVectorizer\n",
        "from sklearn.feature_extraction.text import TfidfTransformer\n",
        "from sklearn.pipeline import make_pipeline\n",
        "from sklearn.preprocessing import Normalizer\n",
        "from sklearn.decomposition import TruncatedSVD\n",
        "from sklearn.model_selection import cross_validate\n",
        "from sklearn.pipeline import Pipeline\n",
        "\n",
        "from lightgbm import LGBMClassifier\n",
        "\n",
        "from warnings import filterwarnings\n"
      ]
    },
    {
      "cell_type": "code",
      "source": [
        "from google.colab import drive\n"
      ],
      "metadata": {
        "id": "dLLnw0UN6uyU"
      },
      "id": "dLLnw0UN6uyU",
      "execution_count": null,
      "outputs": []
    },
    {
      "cell_type": "code",
      "source": [
        "drive.mount('/content/drive')"
      ],
      "metadata": {
        "colab": {
          "base_uri": "https://localhost:8080/"
        },
        "id": "38q1dNZDVf7V",
        "outputId": "7f6b3779-5950-4a4e-b4ec-3a812d4d2b47"
      },
      "id": "38q1dNZDVf7V",
      "execution_count": null,
      "outputs": [
        {
          "output_type": "stream",
          "name": "stdout",
          "text": [
            "Mounted at /content/drive\n"
          ]
        }
      ]
    },
    {
      "cell_type": "code",
      "source": [
        "import os\n",
        "os.chdir(\"/content/drive/My Drive/data\")"
      ],
      "metadata": {
        "id": "L_a2s7M366xD"
      },
      "id": "L_a2s7M366xD",
      "execution_count": null,
      "outputs": []
    },
    {
      "cell_type": "code",
      "execution_count": null,
      "id": "d7eeb412",
      "metadata": {
        "colab": {
          "base_uri": "https://localhost:8080/",
          "height": 424
        },
        "id": "d7eeb412",
        "outputId": "58a97f7f-0b6e-4937-9135-6e932b8a09c2"
      },
      "outputs": [
        {
          "output_type": "execute_result",
          "data": {
            "text/plain": [
              "      airline_sentiment                                               text\n",
              "0               neutral                @VirginAmerica What @dhepburn said.\n",
              "1              positive  @VirginAmerica plus you've added commercials t...\n",
              "2               neutral  @VirginAmerica I didn't today... Must mean I n...\n",
              "3              negative  @VirginAmerica it's really aggressive to blast...\n",
              "4              negative  @VirginAmerica and it's a really big bad thing...\n",
              "...                 ...                                                ...\n",
              "14635          positive  @AmericanAir thank you we got on a different f...\n",
              "14636          negative  @AmericanAir leaving over 20 minutes Late Flig...\n",
              "14637           neutral  @AmericanAir Please bring American Airlines to...\n",
              "14638          negative  @AmericanAir you have my money, you change my ...\n",
              "14639           neutral  @AmericanAir we have 8 ppl so we need 2 know h...\n",
              "\n",
              "[14640 rows x 2 columns]"
            ],
            "text/html": [
              "\n",
              "  <div id=\"df-33438aa7-bdac-4ad2-a914-9e83bb9cd4e5\">\n",
              "    <div class=\"colab-df-container\">\n",
              "      <div>\n",
              "<style scoped>\n",
              "    .dataframe tbody tr th:only-of-type {\n",
              "        vertical-align: middle;\n",
              "    }\n",
              "\n",
              "    .dataframe tbody tr th {\n",
              "        vertical-align: top;\n",
              "    }\n",
              "\n",
              "    .dataframe thead th {\n",
              "        text-align: right;\n",
              "    }\n",
              "</style>\n",
              "<table border=\"1\" class=\"dataframe\">\n",
              "  <thead>\n",
              "    <tr style=\"text-align: right;\">\n",
              "      <th></th>\n",
              "      <th>airline_sentiment</th>\n",
              "      <th>text</th>\n",
              "    </tr>\n",
              "  </thead>\n",
              "  <tbody>\n",
              "    <tr>\n",
              "      <th>0</th>\n",
              "      <td>neutral</td>\n",
              "      <td>@VirginAmerica What @dhepburn said.</td>\n",
              "    </tr>\n",
              "    <tr>\n",
              "      <th>1</th>\n",
              "      <td>positive</td>\n",
              "      <td>@VirginAmerica plus you've added commercials t...</td>\n",
              "    </tr>\n",
              "    <tr>\n",
              "      <th>2</th>\n",
              "      <td>neutral</td>\n",
              "      <td>@VirginAmerica I didn't today... Must mean I n...</td>\n",
              "    </tr>\n",
              "    <tr>\n",
              "      <th>3</th>\n",
              "      <td>negative</td>\n",
              "      <td>@VirginAmerica it's really aggressive to blast...</td>\n",
              "    </tr>\n",
              "    <tr>\n",
              "      <th>4</th>\n",
              "      <td>negative</td>\n",
              "      <td>@VirginAmerica and it's a really big bad thing...</td>\n",
              "    </tr>\n",
              "    <tr>\n",
              "      <th>...</th>\n",
              "      <td>...</td>\n",
              "      <td>...</td>\n",
              "    </tr>\n",
              "    <tr>\n",
              "      <th>14635</th>\n",
              "      <td>positive</td>\n",
              "      <td>@AmericanAir thank you we got on a different f...</td>\n",
              "    </tr>\n",
              "    <tr>\n",
              "      <th>14636</th>\n",
              "      <td>negative</td>\n",
              "      <td>@AmericanAir leaving over 20 minutes Late Flig...</td>\n",
              "    </tr>\n",
              "    <tr>\n",
              "      <th>14637</th>\n",
              "      <td>neutral</td>\n",
              "      <td>@AmericanAir Please bring American Airlines to...</td>\n",
              "    </tr>\n",
              "    <tr>\n",
              "      <th>14638</th>\n",
              "      <td>negative</td>\n",
              "      <td>@AmericanAir you have my money, you change my ...</td>\n",
              "    </tr>\n",
              "    <tr>\n",
              "      <th>14639</th>\n",
              "      <td>neutral</td>\n",
              "      <td>@AmericanAir we have 8 ppl so we need 2 know h...</td>\n",
              "    </tr>\n",
              "  </tbody>\n",
              "</table>\n",
              "<p>14640 rows × 2 columns</p>\n",
              "</div>\n",
              "      <button class=\"colab-df-convert\" onclick=\"convertToInteractive('df-33438aa7-bdac-4ad2-a914-9e83bb9cd4e5')\"\n",
              "              title=\"Convert this dataframe to an interactive table.\"\n",
              "              style=\"display:none;\">\n",
              "        \n",
              "  <svg xmlns=\"http://www.w3.org/2000/svg\" height=\"24px\"viewBox=\"0 0 24 24\"\n",
              "       width=\"24px\">\n",
              "    <path d=\"M0 0h24v24H0V0z\" fill=\"none\"/>\n",
              "    <path d=\"M18.56 5.44l.94 2.06.94-2.06 2.06-.94-2.06-.94-.94-2.06-.94 2.06-2.06.94zm-11 1L8.5 8.5l.94-2.06 2.06-.94-2.06-.94L8.5 2.5l-.94 2.06-2.06.94zm10 10l.94 2.06.94-2.06 2.06-.94-2.06-.94-.94-2.06-.94 2.06-2.06.94z\"/><path d=\"M17.41 7.96l-1.37-1.37c-.4-.4-.92-.59-1.43-.59-.52 0-1.04.2-1.43.59L10.3 9.45l-7.72 7.72c-.78.78-.78 2.05 0 2.83L4 21.41c.39.39.9.59 1.41.59.51 0 1.02-.2 1.41-.59l7.78-7.78 2.81-2.81c.8-.78.8-2.07 0-2.86zM5.41 20L4 18.59l7.72-7.72 1.47 1.35L5.41 20z\"/>\n",
              "  </svg>\n",
              "      </button>\n",
              "      \n",
              "  <style>\n",
              "    .colab-df-container {\n",
              "      display:flex;\n",
              "      flex-wrap:wrap;\n",
              "      gap: 12px;\n",
              "    }\n",
              "\n",
              "    .colab-df-convert {\n",
              "      background-color: #E8F0FE;\n",
              "      border: none;\n",
              "      border-radius: 50%;\n",
              "      cursor: pointer;\n",
              "      display: none;\n",
              "      fill: #1967D2;\n",
              "      height: 32px;\n",
              "      padding: 0 0 0 0;\n",
              "      width: 32px;\n",
              "    }\n",
              "\n",
              "    .colab-df-convert:hover {\n",
              "      background-color: #E2EBFA;\n",
              "      box-shadow: 0px 1px 2px rgba(60, 64, 67, 0.3), 0px 1px 3px 1px rgba(60, 64, 67, 0.15);\n",
              "      fill: #174EA6;\n",
              "    }\n",
              "\n",
              "    [theme=dark] .colab-df-convert {\n",
              "      background-color: #3B4455;\n",
              "      fill: #D2E3FC;\n",
              "    }\n",
              "\n",
              "    [theme=dark] .colab-df-convert:hover {\n",
              "      background-color: #434B5C;\n",
              "      box-shadow: 0px 1px 3px 1px rgba(0, 0, 0, 0.15);\n",
              "      filter: drop-shadow(0px 1px 2px rgba(0, 0, 0, 0.3));\n",
              "      fill: #FFFFFF;\n",
              "    }\n",
              "  </style>\n",
              "\n",
              "      <script>\n",
              "        const buttonEl =\n",
              "          document.querySelector('#df-33438aa7-bdac-4ad2-a914-9e83bb9cd4e5 button.colab-df-convert');\n",
              "        buttonEl.style.display =\n",
              "          google.colab.kernel.accessAllowed ? 'block' : 'none';\n",
              "\n",
              "        async function convertToInteractive(key) {\n",
              "          const element = document.querySelector('#df-33438aa7-bdac-4ad2-a914-9e83bb9cd4e5');\n",
              "          const dataTable =\n",
              "            await google.colab.kernel.invokeFunction('convertToInteractive',\n",
              "                                                     [key], {});\n",
              "          if (!dataTable) return;\n",
              "\n",
              "          const docLinkHtml = 'Like what you see? Visit the ' +\n",
              "            '<a target=\"_blank\" href=https://colab.research.google.com/notebooks/data_table.ipynb>data table notebook</a>'\n",
              "            + ' to learn more about interactive tables.';\n",
              "          element.innerHTML = '';\n",
              "          dataTable['output_type'] = 'display_data';\n",
              "          await google.colab.output.renderOutput(dataTable, element);\n",
              "          const docLink = document.createElement('div');\n",
              "          docLink.innerHTML = docLinkHtml;\n",
              "          element.appendChild(docLink);\n",
              "        }\n",
              "      </script>\n",
              "    </div>\n",
              "  </div>\n",
              "  "
            ]
          },
          "metadata": {},
          "execution_count": 14
        }
      ],
      "source": [
        "df=pd.read_csv('Tweets2.csv')\n",
        "df = df[[\"airline_sentiment\",\"text\"]]\n",
        "df"
      ]
    },
    {
      "cell_type": "code",
      "execution_count": null,
      "id": "8dded2a5",
      "metadata": {
        "id": "8dded2a5",
        "outputId": "d7bec01f-4555-4de1-8aa6-0189e14d4b88",
        "colab": {
          "base_uri": "https://localhost:8080/",
          "height": 424
        }
      },
      "outputs": [
        {
          "output_type": "execute_result",
          "data": {
            "text/plain": [
              "      airline_sentiment                                               text\n",
              "0                     2                @VirginAmerica What @dhepburn said.\n",
              "1                     1  @VirginAmerica plus you've added commercials t...\n",
              "2                     2  @VirginAmerica I didn't today... Must mean I n...\n",
              "3                     0  @VirginAmerica it's really aggressive to blast...\n",
              "4                     0  @VirginAmerica and it's a really big bad thing...\n",
              "...                 ...                                                ...\n",
              "14635                 1  @AmericanAir thank you we got on a different f...\n",
              "14636                 0  @AmericanAir leaving over 20 minutes Late Flig...\n",
              "14637                 2  @AmericanAir Please bring American Airlines to...\n",
              "14638                 0  @AmericanAir you have my money, you change my ...\n",
              "14639                 2  @AmericanAir we have 8 ppl so we need 2 know h...\n",
              "\n",
              "[14640 rows x 2 columns]"
            ],
            "text/html": [
              "\n",
              "  <div id=\"df-1f247565-46a2-4fd0-b6db-6985ab037163\">\n",
              "    <div class=\"colab-df-container\">\n",
              "      <div>\n",
              "<style scoped>\n",
              "    .dataframe tbody tr th:only-of-type {\n",
              "        vertical-align: middle;\n",
              "    }\n",
              "\n",
              "    .dataframe tbody tr th {\n",
              "        vertical-align: top;\n",
              "    }\n",
              "\n",
              "    .dataframe thead th {\n",
              "        text-align: right;\n",
              "    }\n",
              "</style>\n",
              "<table border=\"1\" class=\"dataframe\">\n",
              "  <thead>\n",
              "    <tr style=\"text-align: right;\">\n",
              "      <th></th>\n",
              "      <th>airline_sentiment</th>\n",
              "      <th>text</th>\n",
              "    </tr>\n",
              "  </thead>\n",
              "  <tbody>\n",
              "    <tr>\n",
              "      <th>0</th>\n",
              "      <td>2</td>\n",
              "      <td>@VirginAmerica What @dhepburn said.</td>\n",
              "    </tr>\n",
              "    <tr>\n",
              "      <th>1</th>\n",
              "      <td>1</td>\n",
              "      <td>@VirginAmerica plus you've added commercials t...</td>\n",
              "    </tr>\n",
              "    <tr>\n",
              "      <th>2</th>\n",
              "      <td>2</td>\n",
              "      <td>@VirginAmerica I didn't today... Must mean I n...</td>\n",
              "    </tr>\n",
              "    <tr>\n",
              "      <th>3</th>\n",
              "      <td>0</td>\n",
              "      <td>@VirginAmerica it's really aggressive to blast...</td>\n",
              "    </tr>\n",
              "    <tr>\n",
              "      <th>4</th>\n",
              "      <td>0</td>\n",
              "      <td>@VirginAmerica and it's a really big bad thing...</td>\n",
              "    </tr>\n",
              "    <tr>\n",
              "      <th>...</th>\n",
              "      <td>...</td>\n",
              "      <td>...</td>\n",
              "    </tr>\n",
              "    <tr>\n",
              "      <th>14635</th>\n",
              "      <td>1</td>\n",
              "      <td>@AmericanAir thank you we got on a different f...</td>\n",
              "    </tr>\n",
              "    <tr>\n",
              "      <th>14636</th>\n",
              "      <td>0</td>\n",
              "      <td>@AmericanAir leaving over 20 minutes Late Flig...</td>\n",
              "    </tr>\n",
              "    <tr>\n",
              "      <th>14637</th>\n",
              "      <td>2</td>\n",
              "      <td>@AmericanAir Please bring American Airlines to...</td>\n",
              "    </tr>\n",
              "    <tr>\n",
              "      <th>14638</th>\n",
              "      <td>0</td>\n",
              "      <td>@AmericanAir you have my money, you change my ...</td>\n",
              "    </tr>\n",
              "    <tr>\n",
              "      <th>14639</th>\n",
              "      <td>2</td>\n",
              "      <td>@AmericanAir we have 8 ppl so we need 2 know h...</td>\n",
              "    </tr>\n",
              "  </tbody>\n",
              "</table>\n",
              "<p>14640 rows × 2 columns</p>\n",
              "</div>\n",
              "      <button class=\"colab-df-convert\" onclick=\"convertToInteractive('df-1f247565-46a2-4fd0-b6db-6985ab037163')\"\n",
              "              title=\"Convert this dataframe to an interactive table.\"\n",
              "              style=\"display:none;\">\n",
              "        \n",
              "  <svg xmlns=\"http://www.w3.org/2000/svg\" height=\"24px\"viewBox=\"0 0 24 24\"\n",
              "       width=\"24px\">\n",
              "    <path d=\"M0 0h24v24H0V0z\" fill=\"none\"/>\n",
              "    <path d=\"M18.56 5.44l.94 2.06.94-2.06 2.06-.94-2.06-.94-.94-2.06-.94 2.06-2.06.94zm-11 1L8.5 8.5l.94-2.06 2.06-.94-2.06-.94L8.5 2.5l-.94 2.06-2.06.94zm10 10l.94 2.06.94-2.06 2.06-.94-2.06-.94-.94-2.06-.94 2.06-2.06.94z\"/><path d=\"M17.41 7.96l-1.37-1.37c-.4-.4-.92-.59-1.43-.59-.52 0-1.04.2-1.43.59L10.3 9.45l-7.72 7.72c-.78.78-.78 2.05 0 2.83L4 21.41c.39.39.9.59 1.41.59.51 0 1.02-.2 1.41-.59l7.78-7.78 2.81-2.81c.8-.78.8-2.07 0-2.86zM5.41 20L4 18.59l7.72-7.72 1.47 1.35L5.41 20z\"/>\n",
              "  </svg>\n",
              "      </button>\n",
              "      \n",
              "  <style>\n",
              "    .colab-df-container {\n",
              "      display:flex;\n",
              "      flex-wrap:wrap;\n",
              "      gap: 12px;\n",
              "    }\n",
              "\n",
              "    .colab-df-convert {\n",
              "      background-color: #E8F0FE;\n",
              "      border: none;\n",
              "      border-radius: 50%;\n",
              "      cursor: pointer;\n",
              "      display: none;\n",
              "      fill: #1967D2;\n",
              "      height: 32px;\n",
              "      padding: 0 0 0 0;\n",
              "      width: 32px;\n",
              "    }\n",
              "\n",
              "    .colab-df-convert:hover {\n",
              "      background-color: #E2EBFA;\n",
              "      box-shadow: 0px 1px 2px rgba(60, 64, 67, 0.3), 0px 1px 3px 1px rgba(60, 64, 67, 0.15);\n",
              "      fill: #174EA6;\n",
              "    }\n",
              "\n",
              "    [theme=dark] .colab-df-convert {\n",
              "      background-color: #3B4455;\n",
              "      fill: #D2E3FC;\n",
              "    }\n",
              "\n",
              "    [theme=dark] .colab-df-convert:hover {\n",
              "      background-color: #434B5C;\n",
              "      box-shadow: 0px 1px 3px 1px rgba(0, 0, 0, 0.15);\n",
              "      filter: drop-shadow(0px 1px 2px rgba(0, 0, 0, 0.3));\n",
              "      fill: #FFFFFF;\n",
              "    }\n",
              "  </style>\n",
              "\n",
              "      <script>\n",
              "        const buttonEl =\n",
              "          document.querySelector('#df-1f247565-46a2-4fd0-b6db-6985ab037163 button.colab-df-convert');\n",
              "        buttonEl.style.display =\n",
              "          google.colab.kernel.accessAllowed ? 'block' : 'none';\n",
              "\n",
              "        async function convertToInteractive(key) {\n",
              "          const element = document.querySelector('#df-1f247565-46a2-4fd0-b6db-6985ab037163');\n",
              "          const dataTable =\n",
              "            await google.colab.kernel.invokeFunction('convertToInteractive',\n",
              "                                                     [key], {});\n",
              "          if (!dataTable) return;\n",
              "\n",
              "          const docLinkHtml = 'Like what you see? Visit the ' +\n",
              "            '<a target=\"_blank\" href=https://colab.research.google.com/notebooks/data_table.ipynb>data table notebook</a>'\n",
              "            + ' to learn more about interactive tables.';\n",
              "          element.innerHTML = '';\n",
              "          dataTable['output_type'] = 'display_data';\n",
              "          await google.colab.output.renderOutput(dataTable, element);\n",
              "          const docLink = document.createElement('div');\n",
              "          docLink.innerHTML = docLinkHtml;\n",
              "          element.appendChild(docLink);\n",
              "        }\n",
              "      </script>\n",
              "    </div>\n",
              "  </div>\n",
              "  "
            ]
          },
          "metadata": {},
          "execution_count": 16
        }
      ],
      "source": [
        "df[\"airline_sentiment\"] = df[\"airline_sentiment\"].replace(regex=\"neutral\", value=2)\n",
        "df[\"airline_sentiment\"] = df[\"airline_sentiment\"].replace(regex=\"positive\", value=1)\n",
        "df[\"airline_sentiment\"] = df[\"airline_sentiment\"].replace(regex=\"negative\", value=0)\n",
        "df\n"
      ]
    },
    {
      "cell_type": "code",
      "source": [
        "#Number of sentiments in each category\n",
        "\n",
        "df.airline_sentiment.value_counts()"
      ],
      "metadata": {
        "colab": {
          "base_uri": "https://localhost:8080/"
        },
        "id": "xU8pzNE5ybmo",
        "outputId": "fa6af709-84c7-4969-add5-6abc802c2f82"
      },
      "id": "xU8pzNE5ybmo",
      "execution_count": null,
      "outputs": [
        {
          "output_type": "execute_result",
          "data": {
            "text/plain": [
              "0    9178\n",
              "2    3099\n",
              "1    2363\n",
              "Name: airline_sentiment, dtype: int64"
            ]
          },
          "metadata": {},
          "execution_count": 17
        }
      ]
    },
    {
      "cell_type": "code",
      "source": [
        "# Unique values of sentiment plot\n",
        "\n",
        "plt.style.use('seaborn-whitegrid')\n",
        "plt.figure(figsize=(8,6))\n",
        "col = ['slateblue', 'yellowgreen', 'red']\n",
        "ax = sns.countplot(x=\"airline_sentiment\", data=df, palette = col)"
      ],
      "metadata": {
        "colab": {
          "base_uri": "https://localhost:8080/",
          "height": 385
        },
        "id": "NizQAsW4zbah",
        "outputId": "f6a41ffd-8620-4941-ef5c-07108b43f648"
      },
      "id": "NizQAsW4zbah",
      "execution_count": null,
      "outputs": [
        {
          "output_type": "display_data",
          "data": {
            "text/plain": [
              "<Figure size 576x432 with 1 Axes>"
            ],
            "image/png": "[encoded data removed]"
          },
          "metadata": {}
        }
      ]
    },
    {
      "cell_type": "code",
      "source": [
        "#2nd alternative barplot\n",
        "plt.figure(figsize=(8,6))\n",
        "sns.countplot(df['airline_sentiment'], order =df.airline_sentiment.value_counts().index,palette= 'plasma')\n",
        "plt.show()"
      ],
      "metadata": {
        "colab": {
          "base_uri": "https://localhost:8080/",
          "height": 440
        },
        "id": "Gx0IDIQHzbxy",
        "outputId": "4dd4a12e-7bb6-4ab2-d17b-641520526c75"
      },
      "id": "Gx0IDIQHzbxy",
      "execution_count": null,
      "outputs": [
        {
          "output_type": "stream",
          "name": "stderr",
          "text": [
            "/usr/local/lib/python3.7/dist-packages/seaborn/_decorators.py:43: FutureWarning: Pass the following variable as a keyword arg: x. From version 0.12, the only valid positional argument will be `data`, and passing other arguments without an explicit keyword will result in an error or misinterpretation.\n",
            "  FutureWarning\n"
          ]
        },
        {
          "output_type": "display_data",
          "data": {
            "text/plain": [
              "<Figure size 576x432 with 1 Axes>"
            ],
            "image/png": "[encoded data removed]"
          },
          "metadata": {}
        }
      ]
    },
    {
      "cell_type": "markdown",
      "source": [
        "**Standard Text Pre-Processing**\n",
        "\n",
        "Text preprocessing steps include tasks like:-\n",
        "\n",
        "1. **Stop-Word Removal** : In English words like a, an, the, as, in, on, etc. are considered as stop-words that we can remove them to reduce vocabulary size (these words don't have some specific meaning).\n",
        "\n",
        "2. **Lower Casing** : Convert all words into the lower case because the upper or lower case may not make a difference for the problem. (which reduce the vocabulary size:  The and the are the same!) \n",
        "\n",
        "3. **Stemming texte en gras** : Stemming refers to the process of removing suffixes and reducing a word to some base form such that all different variants of that word can be represented by the same form (e.g., “do” and “doing” are both reduced to “do”).\n",
        "\n",
        "4. **Tokenization** : NLP software typically analyzes text by breaking it up into tokens (which can words or sentences)."
      ],
      "metadata": {
        "id": "M48oF-FO0wwZ"
      },
      "id": "M48oF-FO0wwZ"
    },
    {
      "cell_type": "markdown",
      "source": [
        "**Cleaning Data (2)**"
      ],
      "metadata": {
        "id": "K2YQWnRa7FTV"
      },
      "id": "K2YQWnRa7FTV"
    },
    {
      "cell_type": "code",
      "source": [
        "df2 = df.copy()"
      ],
      "metadata": {
        "id": "sZDjKNgH6gZO"
      },
      "id": "sZDjKNgH6gZO",
      "execution_count": null,
      "outputs": []
    },
    {
      "cell_type": "code",
      "source": [
        "df2"
      ],
      "metadata": {
        "colab": {
          "base_uri": "https://localhost:8080/",
          "height": 424
        },
        "id": "l2un8yCONGBA",
        "outputId": "aa195b85-46d4-479e-c011-84513d89ca14"
      },
      "id": "l2un8yCONGBA",
      "execution_count": null,
      "outputs": [
        {
          "output_type": "execute_result",
          "data": {
            "text/plain": [
              "      airline_sentiment                                               text\n",
              "0                     2                @VirginAmerica What @dhepburn said.\n",
              "1                     1  @VirginAmerica plus you've added commercials t...\n",
              "2                     2  @VirginAmerica I didn't today... Must mean I n...\n",
              "3                     0  @VirginAmerica it's really aggressive to blast...\n",
              "4                     0  @VirginAmerica and it's a really big bad thing...\n",
              "...                 ...                                                ...\n",
              "14635                 1  @AmericanAir thank you we got on a different f...\n",
              "14636                 0  @AmericanAir leaving over 20 minutes Late Flig...\n",
              "14637                 2  @AmericanAir Please bring American Airlines to...\n",
              "14638                 0  @AmericanAir you have my money, you change my ...\n",
              "14639                 2  @AmericanAir we have 8 ppl so we need 2 know h...\n",
              "\n",
              "[14640 rows x 2 columns]"
            ],
            "text/html": [
              "\n",
              "  <div id=\"df-7bb2369b-d042-43df-a276-56d6df234092\">\n",
              "    <div class=\"colab-df-container\">\n",
              "      <div>\n",
              "<style scoped>\n",
              "    .dataframe tbody tr th:only-of-type {\n",
              "        vertical-align: middle;\n",
              "    }\n",
              "\n",
              "    .dataframe tbody tr th {\n",
              "        vertical-align: top;\n",
              "    }\n",
              "\n",
              "    .dataframe thead th {\n",
              "        text-align: right;\n",
              "    }\n",
              "</style>\n",
              "<table border=\"1\" class=\"dataframe\">\n",
              "  <thead>\n",
              "    <tr style=\"text-align: right;\">\n",
              "      <th></th>\n",
              "      <th>airline_sentiment</th>\n",
              "      <th>text</th>\n",
              "    </tr>\n",
              "  </thead>\n",
              "  <tbody>\n",
              "    <tr>\n",
              "      <th>0</th>\n",
              "      <td>2</td>\n",
              "      <td>@VirginAmerica What @dhepburn said.</td>\n",
              "    </tr>\n",
              "    <tr>\n",
              "      <th>1</th>\n",
              "      <td>1</td>\n",
              "      <td>@VirginAmerica plus you've added commercials t...</td>\n",
              "    </tr>\n",
              "    <tr>\n",
              "      <th>2</th>\n",
              "      <td>2</td>\n",
              "      <td>@VirginAmerica I didn't today... Must mean I n...</td>\n",
              "    </tr>\n",
              "    <tr>\n",
              "      <th>3</th>\n",
              "      <td>0</td>\n",
              "      <td>@VirginAmerica it's really aggressive to blast...</td>\n",
              "    </tr>\n",
              "    <tr>\n",
              "      <th>4</th>\n",
              "      <td>0</td>\n",
              "      <td>@VirginAmerica and it's a really big bad thing...</td>\n",
              "    </tr>\n",
              "    <tr>\n",
              "      <th>...</th>\n",
              "      <td>...</td>\n",
              "      <td>...</td>\n",
              "    </tr>\n",
              "    <tr>\n",
              "      <th>14635</th>\n",
              "      <td>1</td>\n",
              "      <td>@AmericanAir thank you we got on a different f...</td>\n",
              "    </tr>\n",
              "    <tr>\n",
              "      <th>14636</th>\n",
              "      <td>0</td>\n",
              "      <td>@AmericanAir leaving over 20 minutes Late Flig...</td>\n",
              "    </tr>\n",
              "    <tr>\n",
              "      <th>14637</th>\n",
              "      <td>2</td>\n",
              "      <td>@AmericanAir Please bring American Airlines to...</td>\n",
              "    </tr>\n",
              "    <tr>\n",
              "      <th>14638</th>\n",
              "      <td>0</td>\n",
              "      <td>@AmericanAir you have my money, you change my ...</td>\n",
              "    </tr>\n",
              "    <tr>\n",
              "      <th>14639</th>\n",
              "      <td>2</td>\n",
              "      <td>@AmericanAir we have 8 ppl so we need 2 know h...</td>\n",
              "    </tr>\n",
              "  </tbody>\n",
              "</table>\n",
              "<p>14640 rows × 2 columns</p>\n",
              "</div>\n",
              "      <button class=\"colab-df-convert\" onclick=\"convertToInteractive('df-7bb2369b-d042-43df-a276-56d6df234092')\"\n",
              "              title=\"Convert this dataframe to an interactive table.\"\n",
              "              style=\"display:none;\">\n",
              "        \n",
              "  <svg xmlns=\"http://www.w3.org/2000/svg\" height=\"24px\"viewBox=\"0 0 24 24\"\n",
              "       width=\"24px\">\n",
              "    <path d=\"M0 0h24v24H0V0z\" fill=\"none\"/>\n",
              "    <path d=\"M18.56 5.44l.94 2.06.94-2.06 2.06-.94-2.06-.94-.94-2.06-.94 2.06-2.06.94zm-11 1L8.5 8.5l.94-2.06 2.06-.94-2.06-.94L8.5 2.5l-.94 2.06-2.06.94zm10 10l.94 2.06.94-2.06 2.06-.94-2.06-.94-.94-2.06-.94 2.06-2.06.94z\"/><path d=\"M17.41 7.96l-1.37-1.37c-.4-.4-.92-.59-1.43-.59-.52 0-1.04.2-1.43.59L10.3 9.45l-7.72 7.72c-.78.78-.78 2.05 0 2.83L4 21.41c.39.39.9.59 1.41.59.51 0 1.02-.2 1.41-.59l7.78-7.78 2.81-2.81c.8-.78.8-2.07 0-2.86zM5.41 20L4 18.59l7.72-7.72 1.47 1.35L5.41 20z\"/>\n",
              "  </svg>\n",
              "      </button>\n",
              "      \n",
              "  <style>\n",
              "    .colab-df-container {\n",
              "      display:flex;\n",
              "      flex-wrap:wrap;\n",
              "      gap: 12px;\n",
              "    }\n",
              "\n",
              "    .colab-df-convert {\n",
              "      background-color: #E8F0FE;\n",
              "      border: none;\n",
              "      border-radius: 50%;\n",
              "      cursor: pointer;\n",
              "      display: none;\n",
              "      fill: #1967D2;\n",
              "      height: 32px;\n",
              "      padding: 0 0 0 0;\n",
              "      width: 32px;\n",
              "    }\n",
              "\n",
              "    .colab-df-convert:hover {\n",
              "      background-color: #E2EBFA;\n",
              "      box-shadow: 0px 1px 2px rgba(60, 64, 67, 0.3), 0px 1px 3px 1px rgba(60, 64, 67, 0.15);\n",
              "      fill: #174EA6;\n",
              "    }\n",
              "\n",
              "    [theme=dark] .colab-df-convert {\n",
              "      background-color: #3B4455;\n",
              "      fill: #D2E3FC;\n",
              "    }\n",
              "\n",
              "    [theme=dark] .colab-df-convert:hover {\n",
              "      background-color: #434B5C;\n",
              "      box-shadow: 0px 1px 3px 1px rgba(0, 0, 0, 0.15);\n",
              "      filter: drop-shadow(0px 1px 2px rgba(0, 0, 0, 0.3));\n",
              "      fill: #FFFFFF;\n",
              "    }\n",
              "  </style>\n",
              "\n",
              "      <script>\n",
              "        const buttonEl =\n",
              "          document.querySelector('#df-7bb2369b-d042-43df-a276-56d6df234092 button.colab-df-convert');\n",
              "        buttonEl.style.display =\n",
              "          google.colab.kernel.accessAllowed ? 'block' : 'none';\n",
              "\n",
              "        async function convertToInteractive(key) {\n",
              "          const element = document.querySelector('#df-7bb2369b-d042-43df-a276-56d6df234092');\n",
              "          const dataTable =\n",
              "            await google.colab.kernel.invokeFunction('convertToInteractive',\n",
              "                                                     [key], {});\n",
              "          if (!dataTable) return;\n",
              "\n",
              "          const docLinkHtml = 'Like what you see? Visit the ' +\n",
              "            '<a target=\"_blank\" href=https://colab.research.google.com/notebooks/data_table.ipynb>data table notebook</a>'\n",
              "            + ' to learn more about interactive tables.';\n",
              "          element.innerHTML = '';\n",
              "          dataTable['output_type'] = 'display_data';\n",
              "          await google.colab.output.renderOutput(dataTable, element);\n",
              "          const docLink = document.createElement('div');\n",
              "          docLink.innerHTML = docLinkHtml;\n",
              "          element.appendChild(docLink);\n",
              "        }\n",
              "      </script>\n",
              "    </div>\n",
              "  </div>\n",
              "  "
            ]
          },
          "metadata": {},
          "execution_count": 30
        }
      ]
    },
    {
      "cell_type": "code",
      "source": [
        "import nltk\n",
        "nltk.download('stopwords')\n",
        "from nltk.corpus import stopwords\n",
        "from nltk.tokenize import word_tokenize\n",
        "nltk.download('punkt')\n",
        "nltk.download('wordnet')\n",
        "from nltk.corpus import wordnet as wn\n",
        "from nltk.stem.wordnet import WordNetLemmatizer\n",
        "nltk.download('omw-1.4')\n",
        "#print(stopwords.words('english'))"
      ],
      "metadata": {
        "colab": {
          "base_uri": "https://localhost:8080/"
        },
        "id": "eSiJuDyVR4bl",
        "outputId": "e6b63430-e5e7-48f4-8e6b-3828e2917915"
      },
      "id": "eSiJuDyVR4bl",
      "execution_count": null,
      "outputs": [
        {
          "output_type": "stream",
          "name": "stderr",
          "text": [
            "[nltk_data] Downloading package stopwords to /root/nltk_data...\n",
            "[nltk_data]   Package stopwords is already up-to-date!\n",
            "[nltk_data] Downloading package punkt to /root/nltk_data...\n",
            "[nltk_data]   Package punkt is already up-to-date!\n",
            "[nltk_data] Downloading package wordnet to /root/nltk_data...\n",
            "[nltk_data]   Package wordnet is already up-to-date!\n",
            "[nltk_data] Downloading package omw-1.4 to /root/nltk_data...\n",
            "[nltk_data]   Unzipping corpora/omw-1.4.zip.\n"
          ]
        },
        {
          "output_type": "execute_result",
          "data": {
            "text/plain": [
              "True"
            ]
          },
          "metadata": {},
          "execution_count": 47
        }
      ]
    },
    {
      "cell_type": "code",
      "source": [
        "def clean_text(data):\n",
        "    \n",
        "    import re\n",
        "    \n",
        "    #1. Removing URLS\n",
        "    data = re.sub('http\\S+', '', data).strip()\n",
        "    data = re.sub('www\\S+', '', data).strip()\n",
        "\n",
        "    #2. Removing Tags\n",
        "    data = re.sub('#\\S+', '', data).strip()\n",
        "\n",
        "    #3. Removing Mentions\n",
        "    data = re.sub('@\\S+', '', data).strip()\n",
        "    \n",
        "    #4. Removing upper brackets to keep negative auxiliary verbs in text\n",
        "    data = data.replace(\"'\", \"\")\n",
        "    \n",
        "    #5. Tokenize\n",
        "    text_tokens = word_tokenize(data.lower())\n",
        "    \n",
        "    #6. Remove Puncs and number\n",
        "    tokens_without_punc = [w for w in text_tokens if w.isalpha()]\n",
        "    \n",
        "    #7. Removing Stopwords\n",
        "    stop_words = stopwords.words('english')\n",
        "    for i in [\"not\", \"no\"]:\n",
        "            stop_words.remove(i)\n",
        "    tokens_without_sw = [t for t in tokens_without_punc if t not in stop_words]\n",
        "    \n",
        "    #8. lemma\n",
        "    text_cleaned = [WordNetLemmatizer().lemmatize(t) for t in tokens_without_sw]\n",
        "\n",
        "    \n",
        "    #joining\n",
        "    return \" \".join(text_cleaned)"
      ],
      "metadata": {
        "id": "9kdX_9iT6nYt"
      },
      "id": "9kdX_9iT6nYt",
      "execution_count": null,
      "outputs": []
    },
    {
      "cell_type": "code",
      "source": [
        "cleaned_txt = df2[\"text\"].apply(clean_text)\n",
        "cleaned_txt.head()"
      ],
      "metadata": {
        "colab": {
          "base_uri": "https://localhost:8080/"
        },
        "id": "TtzgXN-_7opj",
        "outputId": "7e60ffdb-c91c-4934-c20c-4e3a3e03faff"
      },
      "id": "TtzgXN-_7opj",
      "execution_count": null,
      "outputs": [
        {
          "output_type": "execute_result",
          "data": {
            "text/plain": [
              "0                                                 said\n",
              "1         plus youve added commercial experience tacky\n",
              "2         didnt today must mean need take another trip\n",
              "3    really aggressive blast obnoxious entertainmen...\n",
              "4                                 really big bad thing\n",
              "Name: text, dtype: object"
            ]
          },
          "metadata": {},
          "execution_count": 49
        }
      ]
    },
    {
      "cell_type": "markdown",
      "source": [
        "**Build Machine Learning Model**"
      ],
      "metadata": {
        "id": "v8aIE8ykT0od"
      },
      "id": "v8aIE8ykT0od"
    },
    {
      "cell_type": "code",
      "source": [
        "from sklearn.model_selection import train_test_split"
      ],
      "metadata": {
        "id": "Fy4KDFDkTycO"
      },
      "id": "Fy4KDFDkTycO",
      "execution_count": null,
      "outputs": []
    },
    {
      "cell_type": "code",
      "source": [
        "X = df2['text']\n",
        "y = df2['airline_sentiment']"
      ],
      "metadata": {
        "id": "7aipzfdwTyzY"
      },
      "id": "7aipzfdwTyzY",
      "execution_count": null,
      "outputs": []
    },
    {
      "cell_type": "code",
      "source": [
        "X_train, X_test, y_train, y_test = train_test_split(X, y, test_size=0.2, stratify=y, random_state=0)"
      ],
      "metadata": {
        "id": "BI-gACLpTy6F"
      },
      "id": "BI-gACLpTy6F",
      "execution_count": null,
      "outputs": []
    },
    {
      "cell_type": "code",
      "source": [
        "df_train = pd.DataFrame()\n",
        "df_test = pd.DataFrame()\n",
        "\n",
        "df_train['text'] = X_train\n",
        "df_train['airline_sentiment'] = y_train\n",
        "df_train = df_train.reset_index(drop=True)\n",
        "\n",
        "df_test['text'] = X_test\n",
        "df_test['airline_sentiment'] = y_test\n",
        "df_test = df_test.reset_index(drop=True)"
      ],
      "metadata": {
        "id": "quXiXv-J99_y"
      },
      "id": "quXiXv-J99_y",
      "execution_count": null,
      "outputs": []
    },
    {
      "cell_type": "code",
      "source": [
        "class TweetNBClassifier(object):\n",
        "\n",
        "    def __init__(self, df_train):\n",
        "        self.df_train = df_train\n",
        "        self.df_pos = df_train.copy()[df_train.airline_sentiment == 'positive']\n",
        "        self.df_neg = df_train.copy()[df_train.airline_sentiment == 'negative']\n",
        "        self.df_neu = df_train.copy()[df_train.airline_sentiment == 'neutral']\n",
        "\n",
        "    def fit(self):\n",
        "        Pr_pos = df_pos.shape[0]/self.df_train.shape[0]\n",
        "        Pr_neg = df_neg.shape[0]/self.df_train.shape[0]\n",
        "        Pr_neu = df_neu.shape[0]/self.df_train.shape[0]\n",
        "        self.Prior  = (Pr_pos, Pr_neg, Pr_neu)\n",
        "\n",
        "        self.pos_words = ' '.join(self.df_pos['text'].tolist()).split()\n",
        "        self.neg_words = ' '.join(self.df_neg['text'].tolist()).split()\n",
        "        self.neu_words = ' '.join(self.df_neu['text'].tolist()).split()\n",
        "\n",
        "        all_words = ' '.join(self.df_train['text'].tolist()).split()\n",
        "\n",
        "        self.vocab = len(Counter(all_words))\n",
        "\n",
        "        wc_pos = len(' '.join(self.df_pos['text'].tolist()).split())\n",
        "        wc_neg = len(' '.join(self.df_neg['text'].tolist()).split())\n",
        "        wc_neu = len(' '.join(self.df_neu['text'].tolist()).split())\n",
        "        self.word_count = (wc_pos, wc_neg, wc_neu)\n",
        "        return self\n",
        "\n",
        "    def predict(self, df_test):\n",
        "        class_choice = ['positive', 'negative', 'neutral']\n",
        "\n",
        "        classification = []\n",
        "        for tweet in df_test['text']:\n",
        "            text = tweet.split()\n",
        "\n",
        "            val_pos = np.array([])\n",
        "            val_neg = np.array([])\n",
        "            val_neu = np.array([])\n",
        "            for word in text:\n",
        "                tmp_pos = np.log(self.pos_words.count(word)+1)\n",
        "                tmp_neg = np.log(self.neg_words.count(word)+1)\n",
        "                tmp_neu = np.log(self.neu_words.count(word)+1)\n",
        "                val_pos = np.append(val_pos, tmp_pos)\n",
        "                val_neg = np.append(val_neg, tmp_neg)\n",
        "                val_neu = np.append(val_neu, tmp_neu)\n",
        "\n",
        "            denom_pos = len(text)*np.log(self.word_count[0]+self.vocab)\n",
        "            denom_neg = len(text)*np.log(self.word_count[1]+self.vocab)\n",
        "            denom_neu = len(text)*np.log(self.word_count[2]+self.vocab)\n",
        "\n",
        "            val_pos = np.log(self.Prior[0]) + np.sum(val_pos) - denom_pos\n",
        "            val_neg = np.log(self.Prior[1]) + np.sum(val_neg) - denom_neg\n",
        "            val_neu = np.log(self.Prior[2]) + np.sum(val_neu) - denom_neu\n",
        "\n",
        "            probability = (val_pos, val_neg, val_neu)\n",
        "            classification.append(class_choice[np.argmax(probability)])\n",
        "        return classification\n",
        "\n",
        "    def score(self, feature, target):\n",
        "        comp_c, comp_i = (0,0)\n",
        "        tp, tn, fp, fn = (0,0,0,0)\n",
        "        for i in range(0,len(feature)):\n",
        "            if feature[i] == target[i]:\n",
        "                comp_c += 1\n",
        "                if (target[i] == 'positive') & (feature[i] == 'positive'): tp += 1\n",
        "            else:\n",
        "                comp_i += 1\n",
        "                if (target[i] == 'positive') & (feature[i] == 'negative'): fn += 1\n",
        "                if (target[i] == 'negative') & (feature[i] == 'positive'): fp += 1\n",
        "\n",
        "        accuracy  = comp_c/(comp_c + comp_i)\n",
        "        precision = tp/(tp + fp)\n",
        "        recall    = tp/(tp + fn)\n",
        "        return accuracy, precision, recall\n",
        "        "
      ],
      "metadata": {
        "id": "e3dgDan89-P0"
      },
      "id": "e3dgDan89-P0",
      "execution_count": null,
      "outputs": []
    },
    {
      "cell_type": "code",
      "source": [
        "tnb = TweetNBClassifier(df_train)"
      ],
      "metadata": {
        "id": "Y0upbiL09-ZJ"
      },
      "id": "Y0upbiL09-ZJ",
      "execution_count": null,
      "outputs": []
    },
    {
      "cell_type": "code",
      "source": [
        "tnb = tnb.fit()\n",
        "predict = tnb.predict(df_test)\n",
        "score = tnb.score(predict, df_test.airline_sentiment.tolist())"
      ],
      "metadata": {
        "id": "shaw-7eo9-dg"
      },
      "id": "shaw-7eo9-dg",
      "execution_count": null,
      "outputs": []
    },
    {
      "cell_type": "code",
      "source": [
        "cm = confusion_matrix(df_test['airline_sentiment'], predict).T\n",
        "cm = cm.astype('float')/cm.sum(axis=0)\n",
        "\n",
        "fig, ax = mp.subplots()\n",
        "sns.heatmap(cm, annot=True, cmap='Blues');\n",
        "ax.set_xlabel('True Label')\n",
        "ax.set_ylabel('Predicted Label')\n",
        "ax.xaxis.set_label_position('top')\n",
        "ax.xaxis.tick_top()"
      ],
      "metadata": {
        "id": "dCJidJni9-hp"
      },
      "id": "dCJidJni9-hp",
      "execution_count": null,
      "outputs": []
    },
    {
      "cell_type": "markdown",
      "source": [
        "# **Archive**\n",
        "\n",
        "**Fonctions can be used to clean the text!**\n",
        "\n",
        "**Cleaning Data (0)** \n"
      ],
      "metadata": {
        "id": "9lUwF1tzFz9e"
      },
      "id": "9lUwF1tzFz9e"
    },
    {
      "cell_type": "code",
      "execution_count": null,
      "id": "74d899ae",
      "metadata": {
        "id": "74d899ae"
      },
      "outputs": [],
      "source": [
        "def text_to_word_list(text):\n",
        "    text = text.split()\n",
        "    return text\n",
        "\n",
        "def replace_strings(text):\n",
        "    emoji_pattern = re.compile(\"[\"\n",
        "                           u\"\\U0001F600-\\U0001F64F\"  # emoticons\n",
        "                           u\"\\U0001F300-\\U0001F5FF\"  # symbols & pictographs\n",
        "                           u\"\\U0001F680-\\U0001F6FF\"  # transport & map symbols\n",
        "                           u\"\\U0001F1E0-\\U0001F1FF\"  # flags (iOS)\n",
        "                           u\"\\U00002702-\\U000027B0\"\n",
        "                           u\"\\U000024C2-\\U0001F251\"\n",
        "                           u\"\\u00C0-\\u017F\"          #latin\n",
        "                           u\"\\u2000-\\u206F\"          #generalPunctuations\n",
        "                               \n",
        "                           \"]+\", flags=re.UNICODE)\n",
        "    english_pattern=re.compile('[a-zA-Z0-9]+', flags=re.I)\n",
        "    #latin_pattern=re.compile('[A-Za-z\\u00C0-\\u00D6\\u00D8-\\u00f6\\u00f8-\\u00ff\\s]*',)\n",
        "    \n",
        "    text=emoji_pattern.sub(r'', text)\n",
        "    text=english_pattern.sub(r'', text)\n",
        "\n",
        "    return text\n",
        "\n",
        "def remove_punctuations(my_str):\n",
        "    # define punctuation\n",
        "    punctuations = '''```\u0012\u0010\u0002\b`\u0007\b£|¢|\u0007Ñ+-*/=EROero৳০১২৩৪৫৬৭৮৯012–34567•89।!()-[]{};:'\"“\\’,<>./?@#$%^&*_~‘—॥”‰⚽️✌�￰৷￰'''\n",
        "    \n",
        "    no_punct = \"\"\n",
        "    for char in my_str:\n",
        "        if char not in punctuations:\n",
        "            no_punct = no_punct + char\n",
        "\n",
        "    # display the unpunctuated string\n",
        "    return no_punct\n",
        "\n",
        "\n",
        "\n",
        "def joining(text):\n",
        "    out=' '.join(text)\n",
        "    return out\n",
        "\n",
        "def preprocessing(text):\n",
        "    out=remove_punctuations(replace_strings(text))\n",
        "    return out"
      ]
    },
    {
      "cell_type": "markdown",
      "source": [
        "**Cleaning Data (1)**"
      ],
      "metadata": {
        "id": "ZNQNJILI66ze"
      },
      "id": "ZNQNJILI66ze"
    },
    {
      "cell_type": "code",
      "source": [
        "import nltk\n",
        "nltk.download('stopwords')\n",
        "from nltk.corpus import stopwords\n",
        "#print(stopwords.words('english'))"
      ],
      "metadata": {
        "colab": {
          "base_uri": "https://localhost:8080/"
        },
        "id": "eZfE5S74x7J9",
        "outputId": "dedf1130-ad85-401c-f3ab-f3b5da28d87c"
      },
      "id": "eZfE5S74x7J9",
      "execution_count": null,
      "outputs": [
        {
          "output_type": "stream",
          "name": "stderr",
          "text": [
            "[nltk_data] Downloading package stopwords to /root/nltk_data...\n",
            "[nltk_data]   Package stopwords is already up-to-date!\n"
          ]
        }
      ]
    },
    {
      "cell_type": "code",
      "source": [
        "#Removing @ which mostly refers to the airline and does not add information\n",
        "text = [re.sub(r\"@(\\S*)\",r\"\",text) for text in df['text'].astype('str')]"
      ],
      "metadata": {
        "id": "NGtsFbcrv8_O"
      },
      "id": "NGtsFbcrv8_O",
      "execution_count": null,
      "outputs": []
    },
    {
      "cell_type": "code",
      "source": [
        "text[0:5]"
      ],
      "metadata": {
        "colab": {
          "base_uri": "https://localhost:8080/"
        },
        "id": "X42ezNlNx93Z",
        "outputId": "c651bedd-2d75-427c-98ef-f420d8f4fe63"
      },
      "id": "X42ezNlNx93Z",
      "execution_count": null,
      "outputs": [
        {
          "output_type": "execute_result",
          "data": {
            "text/plain": [
              "[' What  said.',\n",
              " \" plus you've added commercials to the experience... tacky.\",\n",
              " \" I didn't today... Must mean I need to take another trip!\",\n",
              " ' it\\'s really aggressive to blast obnoxious \"entertainment\" in your guests\\' faces &amp; they have little recourse',\n",
              " \" and it's a really big bad thing about it\"]"
            ]
          },
          "metadata": {},
          "execution_count": 179
        }
      ]
    },
    {
      "cell_type": "markdown",
      "source": [
        "Removing URLs"
      ],
      "metadata": {
        "id": "PnhxwZuYyElK"
      },
      "id": "PnhxwZuYyElK"
    },
    {
      "cell_type": "code",
      "source": [
        "text = [re.sub(r'http[s]?://(?:[a-zA-Z]|[0-9]|[$-_@.&+]|[!*\\(\\),]|(?:%[0-9a-fA-F][0-9a-fA-F]))+',\" \",t) for t in text]"
      ],
      "metadata": {
        "id": "vXaQ95JAyH4y"
      },
      "id": "vXaQ95JAyH4y",
      "execution_count": null,
      "outputs": []
    },
    {
      "cell_type": "code",
      "source": [
        "text[0:5]"
      ],
      "metadata": {
        "colab": {
          "base_uri": "https://localhost:8080/"
        },
        "id": "Y7tugqsoyNF7",
        "outputId": "d52daa59-6918-4198-ab1e-c5ce9c22e3c2"
      },
      "id": "Y7tugqsoyNF7",
      "execution_count": null,
      "outputs": [
        {
          "output_type": "execute_result",
          "data": {
            "text/plain": [
              "[' What  said.',\n",
              " \" plus you've added commercials to the experience... tacky.\",\n",
              " \" I didn't today... Must mean I need to take another trip!\",\n",
              " ' it\\'s really aggressive to blast obnoxious \"entertainment\" in your guests\\' faces &amp; they have little recourse',\n",
              " \" and it's a really big bad thing about it\"]"
            ]
          },
          "metadata": {},
          "execution_count": 181
        }
      ]
    },
    {
      "cell_type": "markdown",
      "source": [
        "Recognize Emoticons and transform them into text. For inscante turn :) into '**Happy**'."
      ],
      "metadata": {
        "id": "tF-R9GYUyWUL"
      },
      "id": "tF-R9GYUyWUL"
    },
    {
      "cell_type": "code",
      "source": [
        "#happyness\n",
        "text = [re.sub(r':\\)|:-\\)|:D|;\\)|;-\\)|:-D',\"HAPPY\",t) for t in text]\n",
        "#sadness\n",
        "text = [re.sub(r':\\(|:-\\(|;\\(|;-\\(',\"SAD\",t) for t in text]"
      ],
      "metadata": {
        "id": "flLdUPbGyZHi"
      },
      "id": "flLdUPbGyZHi",
      "execution_count": null,
      "outputs": []
    },
    {
      "cell_type": "code",
      "source": [
        "text[0:5]"
      ],
      "metadata": {
        "colab": {
          "base_uri": "https://localhost:8080/"
        },
        "id": "LszBTL9CyVJO",
        "outputId": "cf43c69a-6582-46e4-aedf-6f0f3e162a8a"
      },
      "id": "LszBTL9CyVJO",
      "execution_count": null,
      "outputs": [
        {
          "output_type": "execute_result",
          "data": {
            "text/plain": [
              "[' What  said.',\n",
              " \" plus you've added commercials to the experience... tacky.\",\n",
              " \" I didn't today... Must mean I need to take another trip!\",\n",
              " ' it\\'s really aggressive to blast obnoxious \"entertainment\" in your guests\\' faces &amp; they have little recourse',\n",
              " \" and it's a really big bad thing about it\"]"
            ]
          },
          "metadata": {},
          "execution_count": 183
        }
      ]
    },
    {
      "cell_type": "code",
      "source": [
        "import unicodedata\n",
        "#text = [re.sub('u[\\U0001F602-\\U0001F64F]', lambda m: unicodedata.name(m.group()), t,flags=re.UNICODE) for t in text]"
      ],
      "metadata": {
        "id": "s_2X4PvsypdU"
      },
      "id": "s_2X4PvsypdU",
      "execution_count": null,
      "outputs": []
    },
    {
      "cell_type": "code",
      "source": [
        "text = [re.sub(\"[^a-zA-Z]\",\" \",t).lower() for t in text]"
      ],
      "metadata": {
        "id": "UzruZAecyuGi"
      },
      "id": "UzruZAecyuGi",
      "execution_count": null,
      "outputs": []
    },
    {
      "cell_type": "code",
      "source": [
        "text = pd.Series(text)"
      ],
      "metadata": {
        "id": "ziUnAFl5ywtL"
      },
      "id": "ziUnAFl5ywtL",
      "execution_count": null,
      "outputs": []
    },
    {
      "cell_type": "markdown",
      "source": [
        "**Thanks!**"
      ],
      "metadata": {
        "id": "fz7ZD_TpPMt4"
      },
      "id": "fz7ZD_TpPMt4"
    }
  ],
  "metadata": {
    "kernelspec": {
      "display_name": "Python 3 (ipykernel)",
      "language": "python",
      "name": "python3"
    },
    "language_info": {
      "codemirror_mode": {
        "name": "ipython",
        "version": 3
      },
      "file_extension": ".py",
      "mimetype": "text/x-python",
      "name": "python",
      "nbconvert_exporter": "python",
      "pygments_lexer": "ipython3",
      "version": "3.9.7"
    },
    "colab": {
      "name": "Copie de Airlines_Tweet_3-Classification.ipynb",
      "provenance": [],
      "collapsed_sections": [],
      "include_colab_link": true
    }
  },
  "nbformat": 4,
  "nbformat_minor": 5
}