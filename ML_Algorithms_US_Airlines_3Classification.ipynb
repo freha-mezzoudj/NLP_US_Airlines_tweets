{
  "nbformat": 4,
  "nbformat_minor": 0,
  "metadata": {
    "kernelspec": {
      "display_name": "Python 3",
      "language": "python",
      "name": "python3"
    },
    "language_info": {
      "codemirror_mode": {
        "name": "ipython",
        "version": 3
      },
      "file_extension": ".py",
      "mimetype": "text/x-python",
      "name": "python",
      "nbconvert_exporter": "python",
      "pygments_lexer": "ipython3",
      "version": "3.7.6"
    },
    "colab": {
      "name": "ML_Algorithms_US_Airlines_3Classification.ipynb",
      "provenance": [],
      "collapsed_sections": [],
      "include_colab_link": true
    }
  },
  "cells": [
    {
      "cell_type": "markdown",
      "metadata": {
        "id": "view-in-github",
        "colab_type": "text"
      },
      "source": [
        "<a href=\"https://colab.research.google.com/github/freha-mezzoudj/NLP_US_Airlines_tweets/blob/main/ML_Algorithms_US_Airlines_3Classification.ipynb\" target=\"_parent\"><img src=\"https://colab.research.google.com/assets/colab-badge.svg\" alt=\"Open In Colab\"/></a>"
      ]
    },
    {
      "cell_type": "markdown",
      "metadata": {
        "id": "7Fc5y_i3ok4a"
      },
      "source": [
        "# **US Airlines Tweets Sentiment 3_Classes_Naive Bayes **"
      ]
    },
    {
      "cell_type": "markdown",
      "metadata": {
        "id": "idJPyQKZjhkh"
      },
      "source": [
        "### **1. Problem Statement & approachs**\n",
        "\n",
        "* Build a dictionary based on your training corpus. Calculate conditional probability of each token for each class (this is also called unigram probability). Then evaluate on test data and report accuracy.\n",
        "* Try to improve your algorithm. Some suggestions: <br>\n",
        "&nbsp;&nbsp;&nbsp;&nbsp;&nbsp;i. Remove STOP words from the vocabulary that appear vary frequently but not related to the attitude or opinion of the writer. <br>\n",
        "&nbsp;&nbsp;&nbsp;&nbsp;&nbsp;ii. Reduce the size of your vocabulary further by taking only top-k frequent word types that appear in the training dataset. Vary k and compare performance."
      ]
    },
    {
      "cell_type": "markdown",
      "metadata": {
        "id": "RQGYdtbxjhkp"
      },
      "source": [
        "### **2. Importing Libraries & Loading Data**"
      ]
    },
    {
      "cell_type": "code",
      "metadata": {
        "id": "Gx1eViXgjhkr",
        "colab": {
          "base_uri": "https://localhost:8080/"
        },
        "outputId": "bfa96e3d-fbc2-480e-d406-572da1e9f39d"
      },
      "source": [
        "#importing the required libraries & packages\n",
        "import pandas as pd\n",
        "import numpy as np\n",
        "import time\n",
        "import argparse\n",
        "import string\n",
        "from sklearn.model_selection import train_test_split\n",
        "from nltk.tokenize import regexp_tokenize\n",
        "from datetime import datetime\n",
        "import pytz\n",
        "\n",
        "import seaborn as sns\n",
        "import re, nltk\n",
        "nltk.download('punkt')\n",
        "import matplotlib.pyplot as plt \n",
        "from sklearn.model_selection import train_test_split, StratifiedKFold, cross_val_score\n",
        "from sklearn import model_selection, naive_bayes, svm\n",
        "from sklearn.metrics import classification_report,confusion_matrix\n",
        "from sklearn.metrics import roc_auc_score\n",
        "from sklearn.metrics import recall_score\n",
        "from sklearn.metrics import f1_score\n",
        "from sklearn.metrics import confusion_matrix, accuracy_score\n",
        "from sklearn.model_selection import GridSearchCV\n",
        "from sklearn.metrics import precision_recall_curve\n",
        "from sklearn.metrics import f1_score\n",
        "from sklearn.metrics import auc\n",
        "from matplotlib import pyplot\n",
        "from sklearn.metrics import roc_curve\n",
        "from sklearn.metrics import roc_auc_score, accuracy_score\n",
        "import string\n",
        "from nltk.corpus import stopwords\n",
        "nltk.download('stopwords')\n",
        "from sklearn.feature_extraction.text import CountVectorizer, TfidfVectorizer\n",
        "from sklearn.naive_bayes import MultinomialNB, GaussianNB\n",
        "from sklearn.metrics import f1_score\n",
        "from sklearn.ensemble import AdaBoostClassifier\n",
        "from sklearn.model_selection import cross_val_score\n",
        "import numpy as np\n",
        "from sklearn.ensemble import BaggingClassifier\n",
        "from sklearn.ensemble import RandomForestClassifier\n",
        "!pip install lime\n",
        "from lime import lime_tabular\n",
        "from tensorflow.keras.layers import Embedding\n",
        "from tensorflow.keras.preprocessing.sequence import pad_sequences\n",
        "from tensorflow.keras.models import Sequential\n",
        "from tensorflow.keras.preprocessing.text import one_hot\n",
        "from tensorflow.keras.layers import LSTM\n",
        "from tensorflow.keras.layers import Dense, Dropout\n"
      ],
      "execution_count": 3,
      "outputs": [
        {
          "output_type": "stream",
          "name": "stderr",
          "text": [
            "[nltk_data] Downloading package punkt to /root/nltk_data...\n",
            "[nltk_data]   Package punkt is already up-to-date!\n",
            "[nltk_data] Downloading package stopwords to /root/nltk_data...\n",
            "[nltk_data]   Package stopwords is already up-to-date!\n"
          ]
        },
        {
          "output_type": "stream",
          "name": "stdout",
          "text": [
            "Looking in indexes: https://pypi.org/simple, https://us-python.pkg.dev/colab-wheels/public/simple/\n",
            "Collecting lime\n",
            "  Downloading lime-0.2.0.1.tar.gz (275 kB)\n",
            "\u001b[K     |████████████████████████████████| 275 kB 644 kB/s \n",
            "\u001b[?25hRequirement already satisfied: matplotlib in /usr/local/lib/python3.7/dist-packages (from lime) (3.2.2)\n",
            "Requirement already satisfied: numpy in /usr/local/lib/python3.7/dist-packages (from lime) (1.21.6)\n",
            "Requirement already satisfied: scipy in /usr/local/lib/python3.7/dist-packages (from lime) (1.4.1)\n",
            "Requirement already satisfied: tqdm in /usr/local/lib/python3.7/dist-packages (from lime) (4.64.0)\n",
            "Requirement already satisfied: scikit-learn>=0.18 in /usr/local/lib/python3.7/dist-packages (from lime) (1.0.2)\n",
            "Requirement already satisfied: scikit-image>=0.12 in /usr/local/lib/python3.7/dist-packages (from lime) (0.18.3)\n",
            "Requirement already satisfied: imageio>=2.3.0 in /usr/local/lib/python3.7/dist-packages (from scikit-image>=0.12->lime) (2.4.1)\n",
            "Requirement already satisfied: pillow!=7.1.0,!=7.1.1,>=4.3.0 in /usr/local/lib/python3.7/dist-packages (from scikit-image>=0.12->lime) (7.1.2)\n",
            "Requirement already satisfied: tifffile>=2019.7.26 in /usr/local/lib/python3.7/dist-packages (from scikit-image>=0.12->lime) (2021.11.2)\n",
            "Requirement already satisfied: PyWavelets>=1.1.1 in /usr/local/lib/python3.7/dist-packages (from scikit-image>=0.12->lime) (1.3.0)\n",
            "Requirement already satisfied: networkx>=2.0 in /usr/local/lib/python3.7/dist-packages (from scikit-image>=0.12->lime) (2.6.3)\n",
            "Requirement already satisfied: cycler>=0.10 in /usr/local/lib/python3.7/dist-packages (from matplotlib->lime) (0.11.0)\n",
            "Requirement already satisfied: pyparsing!=2.0.4,!=2.1.2,!=2.1.6,>=2.0.1 in /usr/local/lib/python3.7/dist-packages (from matplotlib->lime) (3.0.9)\n",
            "Requirement already satisfied: python-dateutil>=2.1 in /usr/local/lib/python3.7/dist-packages (from matplotlib->lime) (2.8.2)\n",
            "Requirement already satisfied: kiwisolver>=1.0.1 in /usr/local/lib/python3.7/dist-packages (from matplotlib->lime) (1.4.3)\n",
            "Requirement already satisfied: typing-extensions in /usr/local/lib/python3.7/dist-packages (from kiwisolver>=1.0.1->matplotlib->lime) (4.1.1)\n",
            "Requirement already satisfied: six>=1.5 in /usr/local/lib/python3.7/dist-packages (from python-dateutil>=2.1->matplotlib->lime) (1.15.0)\n",
            "Requirement already satisfied: joblib>=0.11 in /usr/local/lib/python3.7/dist-packages (from scikit-learn>=0.18->lime) (1.1.0)\n",
            "Requirement already satisfied: threadpoolctl>=2.0.0 in /usr/local/lib/python3.7/dist-packages (from scikit-learn>=0.18->lime) (3.1.0)\n",
            "Building wheels for collected packages: lime\n",
            "  Building wheel for lime (setup.py) ... \u001b[?25l\u001b[?25hdone\n",
            "  Created wheel for lime: filename=lime-0.2.0.1-py3-none-any.whl size=283857 sha256=b7194cfb5569a058707744cc26db4f2fa92ec3eff9d1610c31bb86114b836a66\n",
            "  Stored in directory: /root/.cache/pip/wheels/ca/cb/e5/ac701e12d365a08917bf4c6171c0961bc880a8181359c66aa7\n",
            "Successfully built lime\n",
            "Installing collected packages: lime\n",
            "Successfully installed lime-0.2.0.1\n"
          ]
        }
      ]
    },
    {
      "cell_type": "code",
      "source": [
        "from google.colab import drive"
      ],
      "metadata": {
        "id": "4Uz8oEIHdi4W"
      },
      "execution_count": 30,
      "outputs": []
    },
    {
      "cell_type": "code",
      "source": [
        "drive.mount('/content/drive')"
      ],
      "metadata": {
        "id": "OXiIsvDGdjE3",
        "outputId": "1d166b09-71fb-41d7-ac1d-35d64c10aa4e",
        "colab": {
          "base_uri": "https://localhost:8080/"
        }
      },
      "execution_count": 31,
      "outputs": [
        {
          "output_type": "stream",
          "name": "stdout",
          "text": [
            "Drive already mounted at /content/drive; to attempt to forcibly remount, call drive.mount(\"/content/drive\", force_remount=True).\n"
          ]
        }
      ]
    },
    {
      "cell_type": "code",
      "source": [
        "import os\n",
        "os.chdir(\"/content/drive/My Drive/data\")"
      ],
      "metadata": {
        "id": "yLf3Ac66djVg"
      },
      "execution_count": 32,
      "outputs": []
    },
    {
      "cell_type": "code",
      "metadata": {
        "id": "KuW8gH3cjhk4",
        "outputId": "deaa940d-1d85-4b30-a82e-229fbd89f8ca",
        "colab": {
          "base_uri": "https://localhost:8080/",
          "height": 496
        }
      },
      "source": [
        "#loading the US Airline Sentiment data\n",
        "df =pd.read_csv('Tweets2.csv')\n",
        "df.head()"
      ],
      "execution_count": 33,
      "outputs": [
        {
          "output_type": "execute_result",
          "data": {
            "text/plain": [
              "             tweet_id airline_sentiment  airline_sentiment_confidence  \\\n",
              "0  570306133677760513           neutral                        1.0000   \n",
              "1  570301130888122368          positive                        0.3486   \n",
              "2  570301083672813571           neutral                        0.6837   \n",
              "3  570301031407624196          negative                        1.0000   \n",
              "4  570300817074462722          negative                        1.0000   \n",
              "\n",
              "  negativereason  negativereason_confidence         airline  \\\n",
              "0            NaN                        NaN  Virgin America   \n",
              "1            NaN                     0.0000  Virgin America   \n",
              "2            NaN                        NaN  Virgin America   \n",
              "3     Bad Flight                     0.7033  Virgin America   \n",
              "4     Can't Tell                     1.0000  Virgin America   \n",
              "\n",
              "  airline_sentiment_gold        name negativereason_gold  retweet_count  \\\n",
              "0                    NaN     cairdin                 NaN              0   \n",
              "1                    NaN    jnardino                 NaN              0   \n",
              "2                    NaN  yvonnalynn                 NaN              0   \n",
              "3                    NaN    jnardino                 NaN              0   \n",
              "4                    NaN    jnardino                 NaN              0   \n",
              "\n",
              "                                                text tweet_coord  \\\n",
              "0                @VirginAmerica What @dhepburn said.         NaN   \n",
              "1  @VirginAmerica plus you've added commercials t...         NaN   \n",
              "2  @VirginAmerica I didn't today... Must mean I n...         NaN   \n",
              "3  @VirginAmerica it's really aggressive to blast...         NaN   \n",
              "4  @VirginAmerica and it's a really big bad thing...         NaN   \n",
              "\n",
              "               tweet_created tweet_location               user_timezone  \n",
              "0  2015-02-24 11:35:52 -0800            NaN  Eastern Time (US & Canada)  \n",
              "1  2015-02-24 11:15:59 -0800            NaN  Pacific Time (US & Canada)  \n",
              "2  2015-02-24 11:15:48 -0800      Lets Play  Central Time (US & Canada)  \n",
              "3  2015-02-24 11:15:36 -0800            NaN  Pacific Time (US & Canada)  \n",
              "4  2015-02-24 11:14:45 -0800            NaN  Pacific Time (US & Canada)  "
            ],
            "text/html": [
              "\n",
              "  <div id=\"df-4b8f35e9-83d5-42b4-bac3-780e044d1e65\">\n",
              "    <div class=\"colab-df-container\">\n",
              "      <div>\n",
              "<style scoped>\n",
              "    .dataframe tbody tr th:only-of-type {\n",
              "        vertical-align: middle;\n",
              "    }\n",
              "\n",
              "    .dataframe tbody tr th {\n",
              "        vertical-align: top;\n",
              "    }\n",
              "\n",
              "    .dataframe thead th {\n",
              "        text-align: right;\n",
              "    }\n",
              "</style>\n",
              "<table border=\"1\" class=\"dataframe\">\n",
              "  <thead>\n",
              "    <tr style=\"text-align: right;\">\n",
              "      <th></th>\n",
              "      <th>tweet_id</th>\n",
              "      <th>airline_sentiment</th>\n",
              "      <th>airline_sentiment_confidence</th>\n",
              "      <th>negativereason</th>\n",
              "      <th>negativereason_confidence</th>\n",
              "      <th>airline</th>\n",
              "      <th>airline_sentiment_gold</th>\n",
              "      <th>name</th>\n",
              "      <th>negativereason_gold</th>\n",
              "      <th>retweet_count</th>\n",
              "      <th>text</th>\n",
              "      <th>tweet_coord</th>\n",
              "      <th>tweet_created</th>\n",
              "      <th>tweet_location</th>\n",
              "      <th>user_timezone</th>\n",
              "    </tr>\n",
              "  </thead>\n",
              "  <tbody>\n",
              "    <tr>\n",
              "      <th>0</th>\n",
              "      <td>570306133677760513</td>\n",
              "      <td>neutral</td>\n",
              "      <td>1.0000</td>\n",
              "      <td>NaN</td>\n",
              "      <td>NaN</td>\n",
              "      <td>Virgin America</td>\n",
              "      <td>NaN</td>\n",
              "      <td>cairdin</td>\n",
              "      <td>NaN</td>\n",
              "      <td>0</td>\n",
              "      <td>@VirginAmerica What @dhepburn said.</td>\n",
              "      <td>NaN</td>\n",
              "      <td>2015-02-24 11:35:52 -0800</td>\n",
              "      <td>NaN</td>\n",
              "      <td>Eastern Time (US &amp; Canada)</td>\n",
              "    </tr>\n",
              "    <tr>\n",
              "      <th>1</th>\n",
              "      <td>570301130888122368</td>\n",
              "      <td>positive</td>\n",
              "      <td>0.3486</td>\n",
              "      <td>NaN</td>\n",
              "      <td>0.0000</td>\n",
              "      <td>Virgin America</td>\n",
              "      <td>NaN</td>\n",
              "      <td>jnardino</td>\n",
              "      <td>NaN</td>\n",
              "      <td>0</td>\n",
              "      <td>@VirginAmerica plus you've added commercials t...</td>\n",
              "      <td>NaN</td>\n",
              "      <td>2015-02-24 11:15:59 -0800</td>\n",
              "      <td>NaN</td>\n",
              "      <td>Pacific Time (US &amp; Canada)</td>\n",
              "    </tr>\n",
              "    <tr>\n",
              "      <th>2</th>\n",
              "      <td>570301083672813571</td>\n",
              "      <td>neutral</td>\n",
              "      <td>0.6837</td>\n",
              "      <td>NaN</td>\n",
              "      <td>NaN</td>\n",
              "      <td>Virgin America</td>\n",
              "      <td>NaN</td>\n",
              "      <td>yvonnalynn</td>\n",
              "      <td>NaN</td>\n",
              "      <td>0</td>\n",
              "      <td>@VirginAmerica I didn't today... Must mean I n...</td>\n",
              "      <td>NaN</td>\n",
              "      <td>2015-02-24 11:15:48 -0800</td>\n",
              "      <td>Lets Play</td>\n",
              "      <td>Central Time (US &amp; Canada)</td>\n",
              "    </tr>\n",
              "    <tr>\n",
              "      <th>3</th>\n",
              "      <td>570301031407624196</td>\n",
              "      <td>negative</td>\n",
              "      <td>1.0000</td>\n",
              "      <td>Bad Flight</td>\n",
              "      <td>0.7033</td>\n",
              "      <td>Virgin America</td>\n",
              "      <td>NaN</td>\n",
              "      <td>jnardino</td>\n",
              "      <td>NaN</td>\n",
              "      <td>0</td>\n",
              "      <td>@VirginAmerica it's really aggressive to blast...</td>\n",
              "      <td>NaN</td>\n",
              "      <td>2015-02-24 11:15:36 -0800</td>\n",
              "      <td>NaN</td>\n",
              "      <td>Pacific Time (US &amp; Canada)</td>\n",
              "    </tr>\n",
              "    <tr>\n",
              "      <th>4</th>\n",
              "      <td>570300817074462722</td>\n",
              "      <td>negative</td>\n",
              "      <td>1.0000</td>\n",
              "      <td>Can't Tell</td>\n",
              "      <td>1.0000</td>\n",
              "      <td>Virgin America</td>\n",
              "      <td>NaN</td>\n",
              "      <td>jnardino</td>\n",
              "      <td>NaN</td>\n",
              "      <td>0</td>\n",
              "      <td>@VirginAmerica and it's a really big bad thing...</td>\n",
              "      <td>NaN</td>\n",
              "      <td>2015-02-24 11:14:45 -0800</td>\n",
              "      <td>NaN</td>\n",
              "      <td>Pacific Time (US &amp; Canada)</td>\n",
              "    </tr>\n",
              "  </tbody>\n",
              "</table>\n",
              "</div>\n",
              "      <button class=\"colab-df-convert\" onclick=\"convertToInteractive('df-4b8f35e9-83d5-42b4-bac3-780e044d1e65')\"\n",
              "              title=\"Convert this dataframe to an interactive table.\"\n",
              "              style=\"display:none;\">\n",
              "        \n",
              "  <svg xmlns=\"http://www.w3.org/2000/svg\" height=\"24px\"viewBox=\"0 0 24 24\"\n",
              "       width=\"24px\">\n",
              "    <path d=\"M0 0h24v24H0V0z\" fill=\"none\"/>\n",
              "    <path d=\"M18.56 5.44l.94 2.06.94-2.06 2.06-.94-2.06-.94-.94-2.06-.94 2.06-2.06.94zm-11 1L8.5 8.5l.94-2.06 2.06-.94-2.06-.94L8.5 2.5l-.94 2.06-2.06.94zm10 10l.94 2.06.94-2.06 2.06-.94-2.06-.94-.94-2.06-.94 2.06-2.06.94z\"/><path d=\"M17.41 7.96l-1.37-1.37c-.4-.4-.92-.59-1.43-.59-.52 0-1.04.2-1.43.59L10.3 9.45l-7.72 7.72c-.78.78-.78 2.05 0 2.83L4 21.41c.39.39.9.59 1.41.59.51 0 1.02-.2 1.41-.59l7.78-7.78 2.81-2.81c.8-.78.8-2.07 0-2.86zM5.41 20L4 18.59l7.72-7.72 1.47 1.35L5.41 20z\"/>\n",
              "  </svg>\n",
              "      </button>\n",
              "      \n",
              "  <style>\n",
              "    .colab-df-container {\n",
              "      display:flex;\n",
              "      flex-wrap:wrap;\n",
              "      gap: 12px;\n",
              "    }\n",
              "\n",
              "    .colab-df-convert {\n",
              "      background-color: #E8F0FE;\n",
              "      border: none;\n",
              "      border-radius: 50%;\n",
              "      cursor: pointer;\n",
              "      display: none;\n",
              "      fill: #1967D2;\n",
              "      height: 32px;\n",
              "      padding: 0 0 0 0;\n",
              "      width: 32px;\n",
              "    }\n",
              "\n",
              "    .colab-df-convert:hover {\n",
              "      background-color: #E2EBFA;\n",
              "      box-shadow: 0px 1px 2px rgba(60, 64, 67, 0.3), 0px 1px 3px 1px rgba(60, 64, 67, 0.15);\n",
              "      fill: #174EA6;\n",
              "    }\n",
              "\n",
              "    [theme=dark] .colab-df-convert {\n",
              "      background-color: #3B4455;\n",
              "      fill: #D2E3FC;\n",
              "    }\n",
              "\n",
              "    [theme=dark] .colab-df-convert:hover {\n",
              "      background-color: #434B5C;\n",
              "      box-shadow: 0px 1px 3px 1px rgba(0, 0, 0, 0.15);\n",
              "      filter: drop-shadow(0px 1px 2px rgba(0, 0, 0, 0.3));\n",
              "      fill: #FFFFFF;\n",
              "    }\n",
              "  </style>\n",
              "\n",
              "      <script>\n",
              "        const buttonEl =\n",
              "          document.querySelector('#df-4b8f35e9-83d5-42b4-bac3-780e044d1e65 button.colab-df-convert');\n",
              "        buttonEl.style.display =\n",
              "          google.colab.kernel.accessAllowed ? 'block' : 'none';\n",
              "\n",
              "        async function convertToInteractive(key) {\n",
              "          const element = document.querySelector('#df-4b8f35e9-83d5-42b4-bac3-780e044d1e65');\n",
              "          const dataTable =\n",
              "            await google.colab.kernel.invokeFunction('convertToInteractive',\n",
              "                                                     [key], {});\n",
              "          if (!dataTable) return;\n",
              "\n",
              "          const docLinkHtml = 'Like what you see? Visit the ' +\n",
              "            '<a target=\"_blank\" href=https://colab.research.google.com/notebooks/data_table.ipynb>data table notebook</a>'\n",
              "            + ' to learn more about interactive tables.';\n",
              "          element.innerHTML = '';\n",
              "          dataTable['output_type'] = 'display_data';\n",
              "          await google.colab.output.renderOutput(dataTable, element);\n",
              "          const docLink = document.createElement('div');\n",
              "          docLink.innerHTML = docLinkHtml;\n",
              "          element.appendChild(docLink);\n",
              "        }\n",
              "      </script>\n",
              "    </div>\n",
              "  </div>\n",
              "  "
            ]
          },
          "metadata": {},
          "execution_count": 33
        }
      ]
    },
    {
      "cell_type": "code",
      "metadata": {
        "id": "BETtlRyW2ZBq",
        "outputId": "ada260ca-f477-40ce-df9a-0e7498d0b88a",
        "colab": {
          "base_uri": "https://localhost:8080/"
        }
      },
      "source": [
        "#df.shape"
      ],
      "execution_count": 14,
      "outputs": [
        {
          "output_type": "execute_result",
          "data": {
            "text/plain": [
              "(14640, 15)"
            ]
          },
          "metadata": {},
          "execution_count": 14
        }
      ]
    },
    {
      "cell_type": "code",
      "source": [
        "# Unique values of airline\n",
        "\n",
        "col = ['blue', 'green', 'red', 'turquoise', 'chocolate', 'yellow']\n",
        "plt.figure(figsize=(9,8))\n",
        "ax = sns.countplot(x=\"airline\", data=df, palette = col)"
      ],
      "metadata": {
        "colab": {
          "base_uri": "https://localhost:8080/",
          "height": 499
        },
        "id": "rcZ2RbHIIh55",
        "outputId": "002d69ee-4c81-4370-f177-6a2334ae4a3c"
      },
      "execution_count": 35,
      "outputs": [
        {
          "output_type": "display_data",
          "data": {
            "text/plain": [
              "<Figure size 648x576 with 1 Axes>"
            ],
            "image/png": "[encoded data removed]"
          },
          "metadata": {
            "needs_background": "light"
          }
        }
      ]
    },
    {
      "cell_type": "markdown",
      "metadata": {
        "id": "1QJceCmtjhlE"
      },
      "source": [
        "### **3. Tweets Preprocessing**\n",
        "\n",
        "Basic Text Pre-Processing\n",
        "\n",
        "Text preprocessing steps include a few essential tasks to further clean the available text data. It includes tasks like:-\n",
        "\n",
        "Stop-Word Removal : In English words like a, an, the, as, in, on, etc. are considered as stop-words so according to our requirements we can remove them to reduce vocabulary size as these words don't have some specific meaning\n",
        "\n",
        "Lower Casing : Convert all words into the lower case because the upper or lower case may not make a difference for the problem. And we are reducing vocabulary size by doing so.\n",
        "\n",
        "Stemming : Stemming refers to the process of removing suffixes and reducing a word to some base form such that all different variants of that word can be represented by the same form (e.g., “walk” and “walking” are both reduced to “walk”).\n",
        "\n",
        "Tokenization : NLP software typically analyzes text by breaking it up into words (tokens) and sentences"
      ]
    },
    {
      "cell_type": "code",
      "source": [
        "# I am tokenizing the tweet and also taking tokens from second index onwards as initital \n",
        "# to gives airline name and '@' and lowering them and later making it back a sentence\n",
        "def clean_the_tweet(text):\n",
        "  tokens= nltk.word_tokenize(re.sub(\"[^a-zA-Z]\", \" \",text))\n",
        "  tokens = [token.lower() for token in tokens]\n",
        "  return ' '.join(tokens[2:])\n",
        "\n",
        "                 \n",
        "\n",
        "def text_process(msg):\n",
        "  nopunc =[char for char in msg if char not in string.punctuation]\n",
        "  nopunc=''.join(nopunc)\n",
        "  return ' '.join([word for word in nopunc.split() if word.lower() not in stopwords.words('english')])\n",
        "\n",
        "\n",
        " \n",
        "def check_scores(clf,X_train, X_test, y_train, y_test):\n",
        "\n",
        "  model=clf.fit(X_train, y_train)\n",
        "  predicted_class=model.predict(X_test)\n",
        "  predicted_class_train=model.predict(X_train)\n",
        "  test_probs = model.predict_proba(X_test)\n",
        "  test_probs = test_probs[:, 1]\n",
        "  yhat = model.predict(X_test)\n",
        "  lr_precision, lr_recall, _ = precision_recall_curve(y_test, test_probs)\n",
        "  lr_f1, lr_auc = f1_score(y_test, yhat), auc(lr_recall, lr_precision)\n",
        "\n",
        "\n",
        "  print('Train confusion matrix is: ',)\n",
        "  print(confusion_matrix(y_train, predicted_class_train))\n",
        "\n",
        "  print()\n",
        "  print('Test confusion matrix is: ')\n",
        "  print(confusion_matrix(y_test, predicted_class))\n",
        "  print()\n",
        "  print(classification_report(y_test,predicted_class)) \n",
        "  print() \n",
        "  train_accuracy = accuracy_score(y_train,predicted_class_train)\n",
        "  test_accuracy = accuracy_score(y_test,predicted_class)\n",
        "\n",
        "  print(\"Train accuracy score: \", train_accuracy)\n",
        "  print(\"Test accuracy score: \",test_accuracy )\n",
        "  print()\n",
        "  train_auc = roc_auc_score(y_train, clf.predict_proba(X_train)[:,1])\n",
        "  test_auc = roc_auc_score(y_test, clf.predict_proba(X_test)[:,1])\n",
        "\n",
        "  print(\"Train ROC-AUC score: \", train_auc)\n",
        "  print(\"Test ROC-AUC score: \", test_auc)\n",
        "  fig, (ax1, ax2) = plt.subplots(1, 2)\n",
        "\n",
        "  ax1.plot(lr_recall, lr_precision, color = 'orange')\n",
        "  ax1.set(xlabel=\"Recall\", ylabel=\"Precision\")\n",
        "\n",
        "  plt.subplots_adjust(left=0.5,\n",
        "                    bottom=0.1, \n",
        "                    right=1.5, \n",
        "                    top=0.9, \n",
        "                    wspace=0.4, \n",
        "                    hspace=0.4)\n",
        "  print()\n",
        "  print('Are under Precision-Recall curve:', lr_f1)\n",
        "  \n",
        "  fpr, tpr, _ = roc_curve(y_test, test_probs)\n",
        "\n",
        "\n",
        "  ax2.plot(fpr, tpr, color='mediumblue')\n",
        "  ax2.set(xlabel='False Positive Rate', ylabel='True Positive Rate')\n",
        "\n",
        "  print(\"Area under ROC-AUC:\", lr_auc)\n",
        "  return train_accuracy, test_accuracy, train_auc, test_auc\n",
        "\n",
        "\n",
        "\n",
        "def grid_search(model, parameters, X_train, Y_train):\n",
        "  #Doing a grid\n",
        "  grid = GridSearchCV(estimator=model,\n",
        "                       param_grid = parameters,\n",
        "                       cv = 2, verbose=2, scoring='roc_auc')\n",
        "  #Fitting the grid \n",
        "  grid.fit(X_train,Y_train)\n",
        "  print()\n",
        "  print()\n",
        "  # Best model found using grid search\n",
        "  optimal_model = grid.best_estimator_\n",
        "  print('Best parameters are: ')\n",
        "  print( grid.best_params_)\n",
        "\n",
        "  return optimal_model\n"
      ],
      "metadata": {
        "id": "_GohDWQII3GX"
      },
      "execution_count": 36,
      "outputs": []
    },
    {
      "cell_type": "markdown",
      "source": [
        "Text Preparation ...."
      ],
      "metadata": {
        "id": "SUJPhSvrL35O"
      }
    },
    {
      "cell_type": "code",
      "source": [
        "# removing neutral tweets\n",
        "\n",
        "df = df[df['airline_sentiment']!='neutral']\n",
        "df['cleaned_tweet'] = df['text'].apply(clean_the_tweet)\n",
        "\n",
        "df.head()\n",
        "df['airline_sentiment'] = df['airline_sentiment'].apply(lambda x: 1 if x =='positive' else 0)\n",
        "df.head()"
      ],
      "metadata": {
        "colab": {
          "base_uri": "https://localhost:8080/",
          "height": 513
        },
        "id": "lhfEm4ebJRJX",
        "outputId": "ab1b64d4-8ed3-4d2a-937f-48020e2ee749"
      },
      "execution_count": 37,
      "outputs": [
        {
          "output_type": "execute_result",
          "data": {
            "text/plain": [
              "             tweet_id  airline_sentiment  airline_sentiment_confidence  \\\n",
              "1  570301130888122368                  1                        0.3486   \n",
              "3  570301031407624196                  0                        1.0000   \n",
              "4  570300817074462722                  0                        1.0000   \n",
              "5  570300767074181121                  0                        1.0000   \n",
              "6  570300616901320704                  1                        0.6745   \n",
              "\n",
              "  negativereason  negativereason_confidence         airline  \\\n",
              "1            NaN                     0.0000  Virgin America   \n",
              "3     Bad Flight                     0.7033  Virgin America   \n",
              "4     Can't Tell                     1.0000  Virgin America   \n",
              "5     Can't Tell                     0.6842  Virgin America   \n",
              "6            NaN                     0.0000  Virgin America   \n",
              "\n",
              "  airline_sentiment_gold        name negativereason_gold  retweet_count  \\\n",
              "1                    NaN    jnardino                 NaN              0   \n",
              "3                    NaN    jnardino                 NaN              0   \n",
              "4                    NaN    jnardino                 NaN              0   \n",
              "5                    NaN    jnardino                 NaN              0   \n",
              "6                    NaN  cjmcginnis                 NaN              0   \n",
              "\n",
              "                                                text tweet_coord  \\\n",
              "1  @VirginAmerica plus you've added commercials t...         NaN   \n",
              "3  @VirginAmerica it's really aggressive to blast...         NaN   \n",
              "4  @VirginAmerica and it's a really big bad thing...         NaN   \n",
              "5  @VirginAmerica seriously would pay $30 a fligh...         NaN   \n",
              "6  @VirginAmerica yes, nearly every time I fly VX...         NaN   \n",
              "\n",
              "               tweet_created    tweet_location               user_timezone  \\\n",
              "1  2015-02-24 11:15:59 -0800               NaN  Pacific Time (US & Canada)   \n",
              "3  2015-02-24 11:15:36 -0800               NaN  Pacific Time (US & Canada)   \n",
              "4  2015-02-24 11:14:45 -0800               NaN  Pacific Time (US & Canada)   \n",
              "5  2015-02-24 11:14:33 -0800               NaN  Pacific Time (US & Canada)   \n",
              "6  2015-02-24 11:13:57 -0800  San Francisco CA  Pacific Time (US & Canada)   \n",
              "\n",
              "                                       cleaned_tweet  \n",
              "1   you ve added commercials to the experience tacky  \n",
              "3  s really aggressive to blast obnoxious enterta...  \n",
              "4               it s a really big bad thing about it  \n",
              "5  would pay a flight for seats that didn t have ...  \n",
              "6  nearly every time i fly vx this ear worm won t...  "
            ],
            "text/html": [
              "\n",
              "  <div id=\"df-4b96ea78-afc0-4d6b-bad3-551326eaec7e\">\n",
              "    <div class=\"colab-df-container\">\n",
              "      <div>\n",
              "<style scoped>\n",
              "    .dataframe tbody tr th:only-of-type {\n",
              "        vertical-align: middle;\n",
              "    }\n",
              "\n",
              "    .dataframe tbody tr th {\n",
              "        vertical-align: top;\n",
              "    }\n",
              "\n",
              "    .dataframe thead th {\n",
              "        text-align: right;\n",
              "    }\n",
              "</style>\n",
              "<table border=\"1\" class=\"dataframe\">\n",
              "  <thead>\n",
              "    <tr style=\"text-align: right;\">\n",
              "      <th></th>\n",
              "      <th>tweet_id</th>\n",
              "      <th>airline_sentiment</th>\n",
              "      <th>airline_sentiment_confidence</th>\n",
              "      <th>negativereason</th>\n",
              "      <th>negativereason_confidence</th>\n",
              "      <th>airline</th>\n",
              "      <th>airline_sentiment_gold</th>\n",
              "      <th>name</th>\n",
              "      <th>negativereason_gold</th>\n",
              "      <th>retweet_count</th>\n",
              "      <th>text</th>\n",
              "      <th>tweet_coord</th>\n",
              "      <th>tweet_created</th>\n",
              "      <th>tweet_location</th>\n",
              "      <th>user_timezone</th>\n",
              "      <th>cleaned_tweet</th>\n",
              "    </tr>\n",
              "  </thead>\n",
              "  <tbody>\n",
              "    <tr>\n",
              "      <th>1</th>\n",
              "      <td>570301130888122368</td>\n",
              "      <td>1</td>\n",
              "      <td>0.3486</td>\n",
              "      <td>NaN</td>\n",
              "      <td>0.0000</td>\n",
              "      <td>Virgin America</td>\n",
              "      <td>NaN</td>\n",
              "      <td>jnardino</td>\n",
              "      <td>NaN</td>\n",
              "      <td>0</td>\n",
              "      <td>@VirginAmerica plus you've added commercials t...</td>\n",
              "      <td>NaN</td>\n",
              "      <td>2015-02-24 11:15:59 -0800</td>\n",
              "      <td>NaN</td>\n",
              "      <td>Pacific Time (US &amp; Canada)</td>\n",
              "      <td>you ve added commercials to the experience tacky</td>\n",
              "    </tr>\n",
              "    <tr>\n",
              "      <th>3</th>\n",
              "      <td>570301031407624196</td>\n",
              "      <td>0</td>\n",
              "      <td>1.0000</td>\n",
              "      <td>Bad Flight</td>\n",
              "      <td>0.7033</td>\n",
              "      <td>Virgin America</td>\n",
              "      <td>NaN</td>\n",
              "      <td>jnardino</td>\n",
              "      <td>NaN</td>\n",
              "      <td>0</td>\n",
              "      <td>@VirginAmerica it's really aggressive to blast...</td>\n",
              "      <td>NaN</td>\n",
              "      <td>2015-02-24 11:15:36 -0800</td>\n",
              "      <td>NaN</td>\n",
              "      <td>Pacific Time (US &amp; Canada)</td>\n",
              "      <td>s really aggressive to blast obnoxious enterta...</td>\n",
              "    </tr>\n",
              "    <tr>\n",
              "      <th>4</th>\n",
              "      <td>570300817074462722</td>\n",
              "      <td>0</td>\n",
              "      <td>1.0000</td>\n",
              "      <td>Can't Tell</td>\n",
              "      <td>1.0000</td>\n",
              "      <td>Virgin America</td>\n",
              "      <td>NaN</td>\n",
              "      <td>jnardino</td>\n",
              "      <td>NaN</td>\n",
              "      <td>0</td>\n",
              "      <td>@VirginAmerica and it's a really big bad thing...</td>\n",
              "      <td>NaN</td>\n",
              "      <td>2015-02-24 11:14:45 -0800</td>\n",
              "      <td>NaN</td>\n",
              "      <td>Pacific Time (US &amp; Canada)</td>\n",
              "      <td>it s a really big bad thing about it</td>\n",
              "    </tr>\n",
              "    <tr>\n",
              "      <th>5</th>\n",
              "      <td>570300767074181121</td>\n",
              "      <td>0</td>\n",
              "      <td>1.0000</td>\n",
              "      <td>Can't Tell</td>\n",
              "      <td>0.6842</td>\n",
              "      <td>Virgin America</td>\n",
              "      <td>NaN</td>\n",
              "      <td>jnardino</td>\n",
              "      <td>NaN</td>\n",
              "      <td>0</td>\n",
              "      <td>@VirginAmerica seriously would pay $30 a fligh...</td>\n",
              "      <td>NaN</td>\n",
              "      <td>2015-02-24 11:14:33 -0800</td>\n",
              "      <td>NaN</td>\n",
              "      <td>Pacific Time (US &amp; Canada)</td>\n",
              "      <td>would pay a flight for seats that didn t have ...</td>\n",
              "    </tr>\n",
              "    <tr>\n",
              "      <th>6</th>\n",
              "      <td>570300616901320704</td>\n",
              "      <td>1</td>\n",
              "      <td>0.6745</td>\n",
              "      <td>NaN</td>\n",
              "      <td>0.0000</td>\n",
              "      <td>Virgin America</td>\n",
              "      <td>NaN</td>\n",
              "      <td>cjmcginnis</td>\n",
              "      <td>NaN</td>\n",
              "      <td>0</td>\n",
              "      <td>@VirginAmerica yes, nearly every time I fly VX...</td>\n",
              "      <td>NaN</td>\n",
              "      <td>2015-02-24 11:13:57 -0800</td>\n",
              "      <td>San Francisco CA</td>\n",
              "      <td>Pacific Time (US &amp; Canada)</td>\n",
              "      <td>nearly every time i fly vx this ear worm won t...</td>\n",
              "    </tr>\n",
              "  </tbody>\n",
              "</table>\n",
              "</div>\n",
              "      <button class=\"colab-df-convert\" onclick=\"convertToInteractive('df-4b96ea78-afc0-4d6b-bad3-551326eaec7e')\"\n",
              "              title=\"Convert this dataframe to an interactive table.\"\n",
              "              style=\"display:none;\">\n",
              "        \n",
              "  <svg xmlns=\"http://www.w3.org/2000/svg\" height=\"24px\"viewBox=\"0 0 24 24\"\n",
              "       width=\"24px\">\n",
              "    <path d=\"M0 0h24v24H0V0z\" fill=\"none\"/>\n",
              "    <path d=\"M18.56 5.44l.94 2.06.94-2.06 2.06-.94-2.06-.94-.94-2.06-.94 2.06-2.06.94zm-11 1L8.5 8.5l.94-2.06 2.06-.94-2.06-.94L8.5 2.5l-.94 2.06-2.06.94zm10 10l.94 2.06.94-2.06 2.06-.94-2.06-.94-.94-2.06-.94 2.06-2.06.94z\"/><path d=\"M17.41 7.96l-1.37-1.37c-.4-.4-.92-.59-1.43-.59-.52 0-1.04.2-1.43.59L10.3 9.45l-7.72 7.72c-.78.78-.78 2.05 0 2.83L4 21.41c.39.39.9.59 1.41.59.51 0 1.02-.2 1.41-.59l7.78-7.78 2.81-2.81c.8-.78.8-2.07 0-2.86zM5.41 20L4 18.59l7.72-7.72 1.47 1.35L5.41 20z\"/>\n",
              "  </svg>\n",
              "      </button>\n",
              "      \n",
              "  <style>\n",
              "    .colab-df-container {\n",
              "      display:flex;\n",
              "      flex-wrap:wrap;\n",
              "      gap: 12px;\n",
              "    }\n",
              "\n",
              "    .colab-df-convert {\n",
              "      background-color: #E8F0FE;\n",
              "      border: none;\n",
              "      border-radius: 50%;\n",
              "      cursor: pointer;\n",
              "      display: none;\n",
              "      fill: #1967D2;\n",
              "      height: 32px;\n",
              "      padding: 0 0 0 0;\n",
              "      width: 32px;\n",
              "    }\n",
              "\n",
              "    .colab-df-convert:hover {\n",
              "      background-color: #E2EBFA;\n",
              "      box-shadow: 0px 1px 2px rgba(60, 64, 67, 0.3), 0px 1px 3px 1px rgba(60, 64, 67, 0.15);\n",
              "      fill: #174EA6;\n",
              "    }\n",
              "\n",
              "    [theme=dark] .colab-df-convert {\n",
              "      background-color: #3B4455;\n",
              "      fill: #D2E3FC;\n",
              "    }\n",
              "\n",
              "    [theme=dark] .colab-df-convert:hover {\n",
              "      background-color: #434B5C;\n",
              "      box-shadow: 0px 1px 3px 1px rgba(0, 0, 0, 0.15);\n",
              "      filter: drop-shadow(0px 1px 2px rgba(0, 0, 0, 0.3));\n",
              "      fill: #FFFFFF;\n",
              "    }\n",
              "  </style>\n",
              "\n",
              "      <script>\n",
              "        const buttonEl =\n",
              "          document.querySelector('#df-4b96ea78-afc0-4d6b-bad3-551326eaec7e button.colab-df-convert');\n",
              "        buttonEl.style.display =\n",
              "          google.colab.kernel.accessAllowed ? 'block' : 'none';\n",
              "\n",
              "        async function convertToInteractive(key) {\n",
              "          const element = document.querySelector('#df-4b96ea78-afc0-4d6b-bad3-551326eaec7e');\n",
              "          const dataTable =\n",
              "            await google.colab.kernel.invokeFunction('convertToInteractive',\n",
              "                                                     [key], {});\n",
              "          if (!dataTable) return;\n",
              "\n",
              "          const docLinkHtml = 'Like what you see? Visit the ' +\n",
              "            '<a target=\"_blank\" href=https://colab.research.google.com/notebooks/data_table.ipynb>data table notebook</a>'\n",
              "            + ' to learn more about interactive tables.';\n",
              "          element.innerHTML = '';\n",
              "          dataTable['output_type'] = 'display_data';\n",
              "          await google.colab.output.renderOutput(dataTable, element);\n",
              "          const docLink = document.createElement('div');\n",
              "          docLink.innerHTML = docLinkHtml;\n",
              "          element.appendChild(docLink);\n",
              "        }\n",
              "      </script>\n",
              "    </div>\n",
              "  </div>\n",
              "  "
            ]
          },
          "metadata": {},
          "execution_count": 37
        }
      ]
    },
    {
      "cell_type": "code",
      "source": [
        "# Cleaning the tweets, removing punctuation marks\n",
        "df['cleaned_tweet'] = df['cleaned_tweet'].apply(text_process)\n",
        "df.reset_index(drop=True, inplace = True)\n",
        "df.head()"
      ],
      "metadata": {
        "colab": {
          "base_uri": "https://localhost:8080/",
          "height": 513
        },
        "id": "r0TdOkXgJROO",
        "outputId": "c8fdc652-6ea2-4073-8baf-0f49ed753fcc"
      },
      "execution_count": 38,
      "outputs": [
        {
          "output_type": "execute_result",
          "data": {
            "text/plain": [
              "             tweet_id  airline_sentiment  airline_sentiment_confidence  \\\n",
              "0  570301130888122368                  1                        0.3486   \n",
              "1  570301031407624196                  0                        1.0000   \n",
              "2  570300817074462722                  0                        1.0000   \n",
              "3  570300767074181121                  0                        1.0000   \n",
              "4  570300616901320704                  1                        0.6745   \n",
              "\n",
              "  negativereason  negativereason_confidence         airline  \\\n",
              "0            NaN                     0.0000  Virgin America   \n",
              "1     Bad Flight                     0.7033  Virgin America   \n",
              "2     Can't Tell                     1.0000  Virgin America   \n",
              "3     Can't Tell                     0.6842  Virgin America   \n",
              "4            NaN                     0.0000  Virgin America   \n",
              "\n",
              "  airline_sentiment_gold        name negativereason_gold  retweet_count  \\\n",
              "0                    NaN    jnardino                 NaN              0   \n",
              "1                    NaN    jnardino                 NaN              0   \n",
              "2                    NaN    jnardino                 NaN              0   \n",
              "3                    NaN    jnardino                 NaN              0   \n",
              "4                    NaN  cjmcginnis                 NaN              0   \n",
              "\n",
              "                                                text tweet_coord  \\\n",
              "0  @VirginAmerica plus you've added commercials t...         NaN   \n",
              "1  @VirginAmerica it's really aggressive to blast...         NaN   \n",
              "2  @VirginAmerica and it's a really big bad thing...         NaN   \n",
              "3  @VirginAmerica seriously would pay $30 a fligh...         NaN   \n",
              "4  @VirginAmerica yes, nearly every time I fly VX...         NaN   \n",
              "\n",
              "               tweet_created    tweet_location               user_timezone  \\\n",
              "0  2015-02-24 11:15:59 -0800               NaN  Pacific Time (US & Canada)   \n",
              "1  2015-02-24 11:15:36 -0800               NaN  Pacific Time (US & Canada)   \n",
              "2  2015-02-24 11:14:45 -0800               NaN  Pacific Time (US & Canada)   \n",
              "3  2015-02-24 11:14:33 -0800               NaN  Pacific Time (US & Canada)   \n",
              "4  2015-02-24 11:13:57 -0800  San Francisco CA  Pacific Time (US & Canada)   \n",
              "\n",
              "                                       cleaned_tweet  \n",
              "0                 added commercials experience tacky  \n",
              "1  really aggressive blast obnoxious entertainmen...  \n",
              "2                               really big bad thing  \n",
              "3  would pay flight seats playing really bad thin...  \n",
              "4          nearly every time fly vx ear worm go away  "
            ],
            "text/html": [
              "\n",
              "  <div id=\"df-eac14baa-e997-40bf-bd57-03ad5eb8d010\">\n",
              "    <div class=\"colab-df-container\">\n",
              "      <div>\n",
              "<style scoped>\n",
              "    .dataframe tbody tr th:only-of-type {\n",
              "        vertical-align: middle;\n",
              "    }\n",
              "\n",
              "    .dataframe tbody tr th {\n",
              "        vertical-align: top;\n",
              "    }\n",
              "\n",
              "    .dataframe thead th {\n",
              "        text-align: right;\n",
              "    }\n",
              "</style>\n",
              "<table border=\"1\" class=\"dataframe\">\n",
              "  <thead>\n",
              "    <tr style=\"text-align: right;\">\n",
              "      <th></th>\n",
              "      <th>tweet_id</th>\n",
              "      <th>airline_sentiment</th>\n",
              "      <th>airline_sentiment_confidence</th>\n",
              "      <th>negativereason</th>\n",
              "      <th>negativereason_confidence</th>\n",
              "      <th>airline</th>\n",
              "      <th>airline_sentiment_gold</th>\n",
              "      <th>name</th>\n",
              "      <th>negativereason_gold</th>\n",
              "      <th>retweet_count</th>\n",
              "      <th>text</th>\n",
              "      <th>tweet_coord</th>\n",
              "      <th>tweet_created</th>\n",
              "      <th>tweet_location</th>\n",
              "      <th>user_timezone</th>\n",
              "      <th>cleaned_tweet</th>\n",
              "    </tr>\n",
              "  </thead>\n",
              "  <tbody>\n",
              "    <tr>\n",
              "      <th>0</th>\n",
              "      <td>570301130888122368</td>\n",
              "      <td>1</td>\n",
              "      <td>0.3486</td>\n",
              "      <td>NaN</td>\n",
              "      <td>0.0000</td>\n",
              "      <td>Virgin America</td>\n",
              "      <td>NaN</td>\n",
              "      <td>jnardino</td>\n",
              "      <td>NaN</td>\n",
              "      <td>0</td>\n",
              "      <td>@VirginAmerica plus you've added commercials t...</td>\n",
              "      <td>NaN</td>\n",
              "      <td>2015-02-24 11:15:59 -0800</td>\n",
              "      <td>NaN</td>\n",
              "      <td>Pacific Time (US &amp; Canada)</td>\n",
              "      <td>added commercials experience tacky</td>\n",
              "    </tr>\n",
              "    <tr>\n",
              "      <th>1</th>\n",
              "      <td>570301031407624196</td>\n",
              "      <td>0</td>\n",
              "      <td>1.0000</td>\n",
              "      <td>Bad Flight</td>\n",
              "      <td>0.7033</td>\n",
              "      <td>Virgin America</td>\n",
              "      <td>NaN</td>\n",
              "      <td>jnardino</td>\n",
              "      <td>NaN</td>\n",
              "      <td>0</td>\n",
              "      <td>@VirginAmerica it's really aggressive to blast...</td>\n",
              "      <td>NaN</td>\n",
              "      <td>2015-02-24 11:15:36 -0800</td>\n",
              "      <td>NaN</td>\n",
              "      <td>Pacific Time (US &amp; Canada)</td>\n",
              "      <td>really aggressive blast obnoxious entertainmen...</td>\n",
              "    </tr>\n",
              "    <tr>\n",
              "      <th>2</th>\n",
              "      <td>570300817074462722</td>\n",
              "      <td>0</td>\n",
              "      <td>1.0000</td>\n",
              "      <td>Can't Tell</td>\n",
              "      <td>1.0000</td>\n",
              "      <td>Virgin America</td>\n",
              "      <td>NaN</td>\n",
              "      <td>jnardino</td>\n",
              "      <td>NaN</td>\n",
              "      <td>0</td>\n",
              "      <td>@VirginAmerica and it's a really big bad thing...</td>\n",
              "      <td>NaN</td>\n",
              "      <td>2015-02-24 11:14:45 -0800</td>\n",
              "      <td>NaN</td>\n",
              "      <td>Pacific Time (US &amp; Canada)</td>\n",
              "      <td>really big bad thing</td>\n",
              "    </tr>\n",
              "    <tr>\n",
              "      <th>3</th>\n",
              "      <td>570300767074181121</td>\n",
              "      <td>0</td>\n",
              "      <td>1.0000</td>\n",
              "      <td>Can't Tell</td>\n",
              "      <td>0.6842</td>\n",
              "      <td>Virgin America</td>\n",
              "      <td>NaN</td>\n",
              "      <td>jnardino</td>\n",
              "      <td>NaN</td>\n",
              "      <td>0</td>\n",
              "      <td>@VirginAmerica seriously would pay $30 a fligh...</td>\n",
              "      <td>NaN</td>\n",
              "      <td>2015-02-24 11:14:33 -0800</td>\n",
              "      <td>NaN</td>\n",
              "      <td>Pacific Time (US &amp; Canada)</td>\n",
              "      <td>would pay flight seats playing really bad thin...</td>\n",
              "    </tr>\n",
              "    <tr>\n",
              "      <th>4</th>\n",
              "      <td>570300616901320704</td>\n",
              "      <td>1</td>\n",
              "      <td>0.6745</td>\n",
              "      <td>NaN</td>\n",
              "      <td>0.0000</td>\n",
              "      <td>Virgin America</td>\n",
              "      <td>NaN</td>\n",
              "      <td>cjmcginnis</td>\n",
              "      <td>NaN</td>\n",
              "      <td>0</td>\n",
              "      <td>@VirginAmerica yes, nearly every time I fly VX...</td>\n",
              "      <td>NaN</td>\n",
              "      <td>2015-02-24 11:13:57 -0800</td>\n",
              "      <td>San Francisco CA</td>\n",
              "      <td>Pacific Time (US &amp; Canada)</td>\n",
              "      <td>nearly every time fly vx ear worm go away</td>\n",
              "    </tr>\n",
              "  </tbody>\n",
              "</table>\n",
              "</div>\n",
              "      <button class=\"colab-df-convert\" onclick=\"convertToInteractive('df-eac14baa-e997-40bf-bd57-03ad5eb8d010')\"\n",
              "              title=\"Convert this dataframe to an interactive table.\"\n",
              "              style=\"display:none;\">\n",
              "        \n",
              "  <svg xmlns=\"http://www.w3.org/2000/svg\" height=\"24px\"viewBox=\"0 0 24 24\"\n",
              "       width=\"24px\">\n",
              "    <path d=\"M0 0h24v24H0V0z\" fill=\"none\"/>\n",
              "    <path d=\"M18.56 5.44l.94 2.06.94-2.06 2.06-.94-2.06-.94-.94-2.06-.94 2.06-2.06.94zm-11 1L8.5 8.5l.94-2.06 2.06-.94-2.06-.94L8.5 2.5l-.94 2.06-2.06.94zm10 10l.94 2.06.94-2.06 2.06-.94-2.06-.94-.94-2.06-.94 2.06-2.06.94z\"/><path d=\"M17.41 7.96l-1.37-1.37c-.4-.4-.92-.59-1.43-.59-.52 0-1.04.2-1.43.59L10.3 9.45l-7.72 7.72c-.78.78-.78 2.05 0 2.83L4 21.41c.39.39.9.59 1.41.59.51 0 1.02-.2 1.41-.59l7.78-7.78 2.81-2.81c.8-.78.8-2.07 0-2.86zM5.41 20L4 18.59l7.72-7.72 1.47 1.35L5.41 20z\"/>\n",
              "  </svg>\n",
              "      </button>\n",
              "      \n",
              "  <style>\n",
              "    .colab-df-container {\n",
              "      display:flex;\n",
              "      flex-wrap:wrap;\n",
              "      gap: 12px;\n",
              "    }\n",
              "\n",
              "    .colab-df-convert {\n",
              "      background-color: #E8F0FE;\n",
              "      border: none;\n",
              "      border-radius: 50%;\n",
              "      cursor: pointer;\n",
              "      display: none;\n",
              "      fill: #1967D2;\n",
              "      height: 32px;\n",
              "      padding: 0 0 0 0;\n",
              "      width: 32px;\n",
              "    }\n",
              "\n",
              "    .colab-df-convert:hover {\n",
              "      background-color: #E2EBFA;\n",
              "      box-shadow: 0px 1px 2px rgba(60, 64, 67, 0.3), 0px 1px 3px 1px rgba(60, 64, 67, 0.15);\n",
              "      fill: #174EA6;\n",
              "    }\n",
              "\n",
              "    [theme=dark] .colab-df-convert {\n",
              "      background-color: #3B4455;\n",
              "      fill: #D2E3FC;\n",
              "    }\n",
              "\n",
              "    [theme=dark] .colab-df-convert:hover {\n",
              "      background-color: #434B5C;\n",
              "      box-shadow: 0px 1px 3px 1px rgba(0, 0, 0, 0.15);\n",
              "      filter: drop-shadow(0px 1px 2px rgba(0, 0, 0, 0.3));\n",
              "      fill: #FFFFFF;\n",
              "    }\n",
              "  </style>\n",
              "\n",
              "      <script>\n",
              "        const buttonEl =\n",
              "          document.querySelector('#df-eac14baa-e997-40bf-bd57-03ad5eb8d010 button.colab-df-convert');\n",
              "        buttonEl.style.display =\n",
              "          google.colab.kernel.accessAllowed ? 'block' : 'none';\n",
              "\n",
              "        async function convertToInteractive(key) {\n",
              "          const element = document.querySelector('#df-eac14baa-e997-40bf-bd57-03ad5eb8d010');\n",
              "          const dataTable =\n",
              "            await google.colab.kernel.invokeFunction('convertToInteractive',\n",
              "                                                     [key], {});\n",
              "          if (!dataTable) return;\n",
              "\n",
              "          const docLinkHtml = 'Like what you see? Visit the ' +\n",
              "            '<a target=\"_blank\" href=https://colab.research.google.com/notebooks/data_table.ipynb>data table notebook</a>'\n",
              "            + ' to learn more about interactive tables.';\n",
              "          element.innerHTML = '';\n",
              "          dataTable['output_type'] = 'display_data';\n",
              "          await google.colab.output.renderOutput(dataTable, element);\n",
              "          const docLink = document.createElement('div');\n",
              "          docLink.innerHTML = docLinkHtml;\n",
              "          element.appendChild(docLink);\n",
              "        }\n",
              "      </script>\n",
              "    </div>\n",
              "  </div>\n",
              "  "
            ]
          },
          "metadata": {},
          "execution_count": 38
        }
      ]
    },
    {
      "cell_type": "code",
      "source": [
        "df['airline_sentiment'].unique()"
      ],
      "metadata": {
        "colab": {
          "base_uri": "https://localhost:8080/"
        },
        "id": "iwvwHQOwJRXQ",
        "outputId": "a8f16ea4-a0cc-423e-f091-2f84a1443926"
      },
      "execution_count": 39,
      "outputs": [
        {
          "output_type": "execute_result",
          "data": {
            "text/plain": [
              "array([1, 0])"
            ]
          },
          "metadata": {},
          "execution_count": 39
        }
      ]
    },
    {
      "cell_type": "markdown",
      "source": [
        "Standard Support Vector Machine (**SVM**) model with TF-IDF"
      ],
      "metadata": {
        "id": "iwl6kNzHMbiW"
      }
    },
    {
      "cell_type": "markdown",
      "source": [
        "TF (term frequency) measures how often a term or word occurs in a given document.\n",
        "\n",
        "IDF (inverse document frequency) measures the importance of the term across a corpus. In computing TF, all terms are given equal importance (weightage). To account for such cases, IDF weighs down the terms that are very common (such as stop words: a, the, ...) across a corpus and weighs up the rare terms. "
      ],
      "metadata": {
        "id": "VWX3EhoMMm7F"
      }
    },
    {
      "cell_type": "code",
      "source": [
        "# Creating object of TF-IDF vectorizer\n",
        "vectorizer = TfidfVectorizer(use_idf=True, lowercase=True)\n",
        "X_tf_idf= vectorizer.fit_transform(df.cleaned_tweet)\n",
        "x_train, x_test, y_train, y_test = train_test_split(X_tf_idf, df['airline_sentiment'], random_state=42)"
      ],
      "metadata": {
        "id": "08uTDRq-MmPU"
      },
      "execution_count": 40,
      "outputs": []
    },
    {
      "cell_type": "code",
      "source": [
        "SVM = svm.SVC( probability=True)\n",
        "s_train_accuracy, s_test_accuracy, s_train_auc, s_test_auc = check_scores(SVM,x_train, x_test, y_train, y_test)"
      ],
      "metadata": {
        "colab": {
          "base_uri": "https://localhost:8080/",
          "height": 743
        },
        "id": "mGO7DLhpJRbX",
        "outputId": "976b2f4d-aa40-45c2-8d4a-98655993340b"
      },
      "execution_count": 41,
      "outputs": [
        {
          "output_type": "stream",
          "name": "stdout",
          "text": [
            "Train confusion matrix is: \n",
            "[[6824   31]\n",
            " [ 151 1649]]\n",
            "\n",
            "Test confusion matrix is: \n",
            "[[2291   32]\n",
            " [ 296  267]]\n",
            "\n",
            "              precision    recall  f1-score   support\n",
            "\n",
            "           0       0.89      0.99      0.93      2323\n",
            "           1       0.89      0.47      0.62       563\n",
            "\n",
            "    accuracy                           0.89      2886\n",
            "   macro avg       0.89      0.73      0.78      2886\n",
            "weighted avg       0.89      0.89      0.87      2886\n",
            "\n",
            "\n",
            "Train accuracy score:  0.9789716926632005\n",
            "Test accuracy score:  0.8863478863478863\n",
            "\n",
            "Train ROC-AUC score:  0.9969059080962801\n",
            "Test ROC-AUC score:  0.9291378438948227\n",
            "\n",
            "Are under Precision-Recall curve: 0.6194895591647333\n",
            "Area under ROC-AUC: 0.8049684265443309\n"
          ]
        },
        {
          "output_type": "display_data",
          "data": {
            "text/plain": [
              "<Figure size 432x288 with 2 Axes>"
            ],
            "image/png": "[encoded data removed]"
          },
          "metadata": {
            "needs_background": "light"
          }
        }
      ]
    },
    {
      "cell_type": "markdown",
      "source": [
        "**SVM (& TF-IDF) based on the optimization of the hyperparameters** "
      ],
      "metadata": {
        "id": "ilI6D2D0Q2hb"
      }
    },
    {
      "cell_type": "code",
      "source": [
        "# Tuning the hyperparameters\n",
        "parameters ={\n",
        "    \"C\":[0.1,1,10],\n",
        "    \"kernel\":['linear', 'rbf', 'sigmoid'],\n",
        "    \"gamma\":['scale', 'auto']\n",
        "}\n",
        "\n",
        "\n",
        "svm_optimal = grid_search(svm.SVC(probability=True), parameters,x_train, y_train)"
      ],
      "metadata": {
        "colab": {
          "base_uri": "https://localhost:8080/"
        },
        "id": "btB1Xj2IJRkO",
        "outputId": "09bf7d03-2127-4fe3-ba5f-ccf16a28acb3"
      },
      "execution_count": 42,
      "outputs": [
        {
          "output_type": "stream",
          "name": "stdout",
          "text": [
            "Fitting 2 folds for each of 18 candidates, totalling 36 fits\n",
            "[CV] END ..................C=0.1, gamma=scale, kernel=linear; total time=   8.0s\n",
            "[CV] END ..................C=0.1, gamma=scale, kernel=linear; total time=   6.0s\n",
            "[CV] END .....................C=0.1, gamma=scale, kernel=rbf; total time=  10.4s\n",
            "[CV] END .....................C=0.1, gamma=scale, kernel=rbf; total time=  10.2s\n",
            "[CV] END .................C=0.1, gamma=scale, kernel=sigmoid; total time=   6.0s\n",
            "[CV] END .................C=0.1, gamma=scale, kernel=sigmoid; total time=   5.9s\n",
            "[CV] END ...................C=0.1, gamma=auto, kernel=linear; total time=   6.2s\n",
            "[CV] END ...................C=0.1, gamma=auto, kernel=linear; total time=   5.9s\n",
            "[CV] END ......................C=0.1, gamma=auto, kernel=rbf; total time=   5.1s\n",
            "[CV] END ......................C=0.1, gamma=auto, kernel=rbf; total time=   5.1s\n",
            "[CV] END ..................C=0.1, gamma=auto, kernel=sigmoid; total time=   4.3s\n",
            "[CV] END ..................C=0.1, gamma=auto, kernel=sigmoid; total time=   4.3s\n",
            "[CV] END ....................C=1, gamma=scale, kernel=linear; total time=   6.1s\n",
            "[CV] END ....................C=1, gamma=scale, kernel=linear; total time=   5.8s\n",
            "[CV] END .......................C=1, gamma=scale, kernel=rbf; total time=  11.4s\n",
            "[CV] END .......................C=1, gamma=scale, kernel=rbf; total time=  12.3s\n",
            "[CV] END ...................C=1, gamma=scale, kernel=sigmoid; total time=   5.6s\n",
            "[CV] END ...................C=1, gamma=scale, kernel=sigmoid; total time=   5.4s\n",
            "[CV] END .....................C=1, gamma=auto, kernel=linear; total time=   6.1s\n",
            "[CV] END .....................C=1, gamma=auto, kernel=linear; total time=   5.8s\n",
            "[CV] END ........................C=1, gamma=auto, kernel=rbf; total time=   5.3s\n",
            "[CV] END ........................C=1, gamma=auto, kernel=rbf; total time=   5.2s\n",
            "[CV] END ....................C=1, gamma=auto, kernel=sigmoid; total time=   4.4s\n",
            "[CV] END ....................C=1, gamma=auto, kernel=sigmoid; total time=   4.4s\n",
            "[CV] END ...................C=10, gamma=scale, kernel=linear; total time=   9.8s\n",
            "[CV] END ...................C=10, gamma=scale, kernel=linear; total time=   6.3s\n",
            "[CV] END ......................C=10, gamma=scale, kernel=rbf; total time=  12.4s\n",
            "[CV] END ......................C=10, gamma=scale, kernel=rbf; total time=  15.1s\n",
            "[CV] END ..................C=10, gamma=scale, kernel=sigmoid; total time=  13.3s\n",
            "[CV] END ..................C=10, gamma=scale, kernel=sigmoid; total time=   7.4s\n",
            "[CV] END ....................C=10, gamma=auto, kernel=linear; total time=   6.4s\n",
            "[CV] END ....................C=10, gamma=auto, kernel=linear; total time=   6.3s\n",
            "[CV] END .......................C=10, gamma=auto, kernel=rbf; total time=   6.7s\n",
            "[CV] END .......................C=10, gamma=auto, kernel=rbf; total time=   6.7s\n",
            "[CV] END ...................C=10, gamma=auto, kernel=sigmoid; total time=   5.4s\n",
            "[CV] END ...................C=10, gamma=auto, kernel=sigmoid; total time=   5.4s\n",
            "\n",
            "\n",
            "Best parameters are: \n",
            "{'C': 10, 'gamma': 'scale', 'kernel': 'rbf'}\n"
          ]
        }
      ]
    },
    {
      "cell_type": "markdown",
      "source": [
        "Best parameters are: \n",
        "\n",
        "{'C': 10, 'gamma': 'scale', 'kernel': 'rbf'}"
      ],
      "metadata": {
        "id": "LtVUF1fFSChz"
      }
    },
    {
      "cell_type": "code",
      "metadata": {
        "id": "wx5SySKo_kvo",
        "colab": {
          "base_uri": "https://localhost:8080/",
          "height": 743
        },
        "outputId": "37bc4149-599b-48f5-9acd-5d32ef53b726"
      },
      "source": [
        "so_train_accuracy, so_test_accuracy, so_train_auc, so_test_auc = check_scores(svm_optimal,x_train, x_test, y_train, y_test)\n"
      ],
      "execution_count": 44,
      "outputs": [
        {
          "output_type": "stream",
          "name": "stdout",
          "text": [
            "Train confusion matrix is: \n",
            "[[6829   26]\n",
            " [   5 1795]]\n",
            "\n",
            "Test confusion matrix is: \n",
            "[[2272   51]\n",
            " [ 245  318]]\n",
            "\n",
            "              precision    recall  f1-score   support\n",
            "\n",
            "           0       0.90      0.98      0.94      2323\n",
            "           1       0.86      0.56      0.68       563\n",
            "\n",
            "    accuracy                           0.90      2886\n",
            "   macro avg       0.88      0.77      0.81      2886\n",
            "weighted avg       0.89      0.90      0.89      2886\n",
            "\n",
            "\n",
            "Train accuracy score:  0.996418255343732\n",
            "Test accuracy score:  0.8974358974358975\n",
            "\n",
            "Train ROC-AUC score:  0.9987310154793744\n",
            "Test ROC-AUC score:  0.9287769459624161\n",
            "\n",
            "Are under Precision-Recall curve: 0.6824034334763949\n",
            "Area under ROC-AUC: 0.8075700340272364\n"
          ]
        },
        {
          "output_type": "display_data",
          "data": {
            "text/plain": [
              "<Figure size 432x288 with 2 Axes>"
            ],
            "image/png": "[encoded data removed]"
          },
          "metadata": {
            "needs_background": "light"
          }
        }
      ]
    },
    {
      "cell_type": "markdown",
      "source": [
        "**Multinomial Naive Bayes Classifier**"
      ],
      "metadata": {
        "id": "ivtdp4-HVE9v"
      }
    },
    {
      "cell_type": "markdown",
      "metadata": {
        "id": "O0wL3PCpjhmH"
      },
      "source": [
        "  Building the Navie Bayes Classifier\n",
        "\n",
        "Creation of the dictionary (or the bag of words of the data).\n",
        "\n",
        "To calculate the Navie Bayes Classifier probabilities and then fits the classifier on our training data.\n",
        "\n",
        "The test data is inputed to this function which determines the sentiment label based of each tweet by using the word counts computed during the training process. Laplace smoothing can be applied while computing Naïve Bayes probabilities for the test data.\n",
        "\n",
        "Determine how many tweets are classified correctly  (Score) and measures the performance of the model in terms of accuracy."
      ]
    },
    {
      "cell_type": "code",
      "source": [
        "m_train_accuracy, m_test_accuracy, m_train_auc, m_test_auc = check_scores(MultinomialNB(),x_train, x_test, y_train, y_test)"
      ],
      "metadata": {
        "colab": {
          "base_uri": "https://localhost:8080/",
          "height": 743
        },
        "id": "Nzwv4XekU_fQ",
        "outputId": "ba7b560c-3312-49c7-9c15-fb879e8fc7b3"
      },
      "execution_count": 45,
      "outputs": [
        {
          "output_type": "stream",
          "name": "stdout",
          "text": [
            "Train confusion matrix is: \n",
            "[[6853    2]\n",
            " [1296  504]]\n",
            "\n",
            "Test confusion matrix is: \n",
            "[[2318    5]\n",
            " [ 474   89]]\n",
            "\n",
            "              precision    recall  f1-score   support\n",
            "\n",
            "           0       0.83      1.00      0.91      2323\n",
            "           1       0.95      0.16      0.27       563\n",
            "\n",
            "    accuracy                           0.83      2886\n",
            "   macro avg       0.89      0.58      0.59      2886\n",
            "weighted avg       0.85      0.83      0.78      2886\n",
            "\n",
            "\n",
            "Train accuracy score:  0.8500288850375506\n",
            "Test accuracy score:  0.834026334026334\n",
            "\n",
            "Train ROC-AUC score:  0.9561105438041981\n",
            "Test ROC-AUC score:  0.9013005324009118\n",
            "\n",
            "Are under Precision-Recall curve: 0.2709284627092846\n",
            "Area under ROC-AUC: 0.7374839454006489\n"
          ]
        },
        {
          "output_type": "display_data",
          "data": {
            "text/plain": [
              "<Figure size 432x288 with 2 Axes>"
            ],
            "image/png": "[encoded data removed]"
          },
          "metadata": {
            "needs_background": "light"
          }
        }
      ]
    },
    {
      "cell_type": "markdown",
      "source": [
        " **Gaussian Naive Bayes classifier**"
      ],
      "metadata": {
        "id": "lO3IKUC5Vsk_"
      }
    },
    {
      "cell_type": "code",
      "source": [
        "g_train_accuracy, g_test_accuracy, g_train_auc, g_test_auc=check_scores(GaussianNB(),x_train.toarray(), x_test.toarray(), y_train, y_test)"
      ],
      "metadata": {
        "colab": {
          "base_uri": "https://localhost:8080/",
          "height": 743
        },
        "id": "WDmiQQSjU_l-",
        "outputId": "2f711f3c-0e0a-4d6f-ce6a-1746d18e6209"
      },
      "execution_count": 46,
      "outputs": [
        {
          "output_type": "stream",
          "name": "stdout",
          "text": [
            "Train confusion matrix is: \n",
            "[[5543 1312]\n",
            " [   0 1800]]\n",
            "\n",
            "Test confusion matrix is: \n",
            "[[1623  700]\n",
            " [ 181  382]]\n",
            "\n",
            "              precision    recall  f1-score   support\n",
            "\n",
            "           0       0.90      0.70      0.79      2323\n",
            "           1       0.35      0.68      0.46       563\n",
            "\n",
            "    accuracy                           0.69      2886\n",
            "   macro avg       0.63      0.69      0.63      2886\n",
            "weighted avg       0.79      0.69      0.72      2886\n",
            "\n",
            "\n",
            "Train accuracy score:  0.8484113229347198\n",
            "Test accuracy score:  0.6947331947331947\n",
            "\n",
            "Train ROC-AUC score:  0.9043034281546316\n",
            "Test ROC-AUC score:  0.688586755810495\n",
            "\n",
            "Are under Precision-Recall curve: 0.4644376899696049\n",
            "Area under ROC-AUC: 0.5471372315951626\n"
          ]
        },
        {
          "output_type": "display_data",
          "data": {
            "text/plain": [
              "<Figure size 432x288 with 2 Axes>"
            ],
            "image/png": "[encoded data removed]"
          },
          "metadata": {
            "needs_background": "light"
          }
        }
      ]
    },
    {
      "cell_type": "markdown",
      "source": [
        "**AdaBoost Classifier**: decision stump!"
      ],
      "metadata": {
        "id": "tGDXr6PcWJtW"
      }
    },
    {
      "cell_type": "code",
      "source": [
        "a_train_accuracy, a_test_accuracy, a_train_auc, a_test_auc=check_scores(AdaBoostClassifier(),x_train,x_test, y_train, y_test)"
      ],
      "metadata": {
        "colab": {
          "base_uri": "https://localhost:8080/",
          "height": 743
        },
        "id": "8Ggv_HWuU_vm",
        "outputId": "16d00d88-6137-4124-b22c-37ce4d1df464"
      },
      "execution_count": 47,
      "outputs": [
        {
          "output_type": "stream",
          "name": "stdout",
          "text": [
            "Train confusion matrix is: \n",
            "[[6655  200]\n",
            " [1012  788]]\n",
            "\n",
            "Test confusion matrix is: \n",
            "[[2251   72]\n",
            " [ 328  235]]\n",
            "\n",
            "              precision    recall  f1-score   support\n",
            "\n",
            "           0       0.87      0.97      0.92      2323\n",
            "           1       0.77      0.42      0.54       563\n",
            "\n",
            "    accuracy                           0.86      2886\n",
            "   macro avg       0.82      0.69      0.73      2886\n",
            "weighted avg       0.85      0.86      0.84      2886\n",
            "\n",
            "\n",
            "Train accuracy score:  0.8599653379549393\n",
            "Test accuracy score:  0.8613998613998614\n",
            "\n",
            "Train ROC-AUC score:  0.8689482940270687\n",
            "Test ROC-AUC score:  0.8373803091947158\n",
            "\n",
            "Are under Precision-Recall curve: 0.5402298850574713\n",
            "Area under ROC-AUC: 0.6298876361965743\n"
          ]
        },
        {
          "output_type": "display_data",
          "data": {
            "text/plain": [
              "<Figure size 432x288 with 2 Axes>"
            ],
            "image/png": "[encoded data removed]"
          },
          "metadata": {
            "needs_background": "light"
          }
        }
      ]
    },
    {
      "cell_type": "code",
      "source": [
        "params = {'n_estimators': [10, 50, 100, 500],\n",
        " 'learning_rate': [0.0001, 0.001, 0.01, 0.1, 1.0],\n",
        " 'algorithm': ['SAMME', 'SAMME.R']}\n",
        "\n",
        "ada_optimal_model = grid_search(AdaBoostClassifier(), params,x_train, y_train)"
      ],
      "metadata": {
        "colab": {
          "base_uri": "https://localhost:8080/"
        },
        "id": "EMaNMKIwU_0H",
        "outputId": "1e0d56ac-6c78-46e4-bc2a-a76a98f8939c"
      },
      "execution_count": 48,
      "outputs": [
        {
          "output_type": "stream",
          "name": "stdout",
          "text": [
            "Fitting 2 folds for each of 40 candidates, totalling 80 fits\n",
            "[CV] END algorithm=SAMME, learning_rate=0.0001, n_estimators=10; total time=   0.6s\n",
            "[CV] END algorithm=SAMME, learning_rate=0.0001, n_estimators=10; total time=   0.5s\n",
            "[CV] END algorithm=SAMME, learning_rate=0.0001, n_estimators=50; total time=   2.6s\n",
            "[CV] END algorithm=SAMME, learning_rate=0.0001, n_estimators=50; total time=   2.7s\n",
            "[CV] END algorithm=SAMME, learning_rate=0.0001, n_estimators=100; total time=   2.8s\n",
            "[CV] END algorithm=SAMME, learning_rate=0.0001, n_estimators=100; total time=   2.8s\n",
            "[CV] END algorithm=SAMME, learning_rate=0.0001, n_estimators=500; total time=  13.8s\n",
            "[CV] END algorithm=SAMME, learning_rate=0.0001, n_estimators=500; total time=  13.7s\n",
            "[CV] END algorithm=SAMME, learning_rate=0.001, n_estimators=10; total time=   0.3s\n",
            "[CV] END algorithm=SAMME, learning_rate=0.001, n_estimators=10; total time=   0.3s\n",
            "[CV] END algorithm=SAMME, learning_rate=0.001, n_estimators=50; total time=   1.4s\n",
            "[CV] END algorithm=SAMME, learning_rate=0.001, n_estimators=50; total time=   1.4s\n",
            "[CV] END algorithm=SAMME, learning_rate=0.001, n_estimators=100; total time=   2.7s\n",
            "[CV] END algorithm=SAMME, learning_rate=0.001, n_estimators=100; total time=   2.7s\n",
            "[CV] END algorithm=SAMME, learning_rate=0.001, n_estimators=500; total time=  13.8s\n",
            "[CV] END algorithm=SAMME, learning_rate=0.001, n_estimators=500; total time=  13.8s\n",
            "[CV] END algorithm=SAMME, learning_rate=0.01, n_estimators=10; total time=   0.3s\n",
            "[CV] END algorithm=SAMME, learning_rate=0.01, n_estimators=10; total time=   0.3s\n",
            "[CV] END algorithm=SAMME, learning_rate=0.01, n_estimators=50; total time=   1.4s\n",
            "[CV] END algorithm=SAMME, learning_rate=0.01, n_estimators=50; total time=   1.4s\n",
            "[CV] END algorithm=SAMME, learning_rate=0.01, n_estimators=100; total time=   2.8s\n",
            "[CV] END algorithm=SAMME, learning_rate=0.01, n_estimators=100; total time=   2.8s\n",
            "[CV] END algorithm=SAMME, learning_rate=0.01, n_estimators=500; total time=  13.8s\n",
            "[CV] END algorithm=SAMME, learning_rate=0.01, n_estimators=500; total time=  13.7s\n",
            "[CV] END algorithm=SAMME, learning_rate=0.1, n_estimators=10; total time=   0.3s\n",
            "[CV] END algorithm=SAMME, learning_rate=0.1, n_estimators=10; total time=   0.3s\n",
            "[CV] END algorithm=SAMME, learning_rate=0.1, n_estimators=50; total time=   1.4s\n",
            "[CV] END algorithm=SAMME, learning_rate=0.1, n_estimators=50; total time=   1.4s\n",
            "[CV] END algorithm=SAMME, learning_rate=0.1, n_estimators=100; total time=   2.7s\n",
            "[CV] END algorithm=SAMME, learning_rate=0.1, n_estimators=100; total time=   2.7s\n",
            "[CV] END algorithm=SAMME, learning_rate=0.1, n_estimators=500; total time=  13.8s\n",
            "[CV] END algorithm=SAMME, learning_rate=0.1, n_estimators=500; total time=  13.8s\n",
            "[CV] END algorithm=SAMME, learning_rate=1.0, n_estimators=10; total time=   0.3s\n",
            "[CV] END algorithm=SAMME, learning_rate=1.0, n_estimators=10; total time=   0.3s\n",
            "[CV] END algorithm=SAMME, learning_rate=1.0, n_estimators=50; total time=   1.4s\n",
            "[CV] END algorithm=SAMME, learning_rate=1.0, n_estimators=50; total time=   1.4s\n",
            "[CV] END algorithm=SAMME, learning_rate=1.0, n_estimators=100; total time=   2.8s\n",
            "[CV] END algorithm=SAMME, learning_rate=1.0, n_estimators=100; total time=   2.7s\n",
            "[CV] END algorithm=SAMME, learning_rate=1.0, n_estimators=500; total time=  13.8s\n",
            "[CV] END algorithm=SAMME, learning_rate=1.0, n_estimators=500; total time=  13.8s\n",
            "[CV] END algorithm=SAMME.R, learning_rate=0.0001, n_estimators=10; total time=   0.3s\n",
            "[CV] END algorithm=SAMME.R, learning_rate=0.0001, n_estimators=10; total time=   0.3s\n",
            "[CV] END algorithm=SAMME.R, learning_rate=0.0001, n_estimators=50; total time=   1.5s\n",
            "[CV] END algorithm=SAMME.R, learning_rate=0.0001, n_estimators=50; total time=   1.5s\n",
            "[CV] END algorithm=SAMME.R, learning_rate=0.0001, n_estimators=100; total time=   2.9s\n",
            "[CV] END algorithm=SAMME.R, learning_rate=0.0001, n_estimators=100; total time=   2.9s\n",
            "[CV] END algorithm=SAMME.R, learning_rate=0.0001, n_estimators=500; total time=  14.4s\n",
            "[CV] END algorithm=SAMME.R, learning_rate=0.0001, n_estimators=500; total time=  14.4s\n",
            "[CV] END algorithm=SAMME.R, learning_rate=0.001, n_estimators=10; total time=   0.3s\n",
            "[CV] END algorithm=SAMME.R, learning_rate=0.001, n_estimators=10; total time=   0.3s\n",
            "[CV] END algorithm=SAMME.R, learning_rate=0.001, n_estimators=50; total time=   1.5s\n",
            "[CV] END algorithm=SAMME.R, learning_rate=0.001, n_estimators=50; total time=   1.5s\n",
            "[CV] END algorithm=SAMME.R, learning_rate=0.001, n_estimators=100; total time=   2.9s\n",
            "[CV] END algorithm=SAMME.R, learning_rate=0.001, n_estimators=100; total time=   2.9s\n",
            "[CV] END algorithm=SAMME.R, learning_rate=0.001, n_estimators=500; total time=  14.5s\n",
            "[CV] END algorithm=SAMME.R, learning_rate=0.001, n_estimators=500; total time=  14.4s\n",
            "[CV] END algorithm=SAMME.R, learning_rate=0.01, n_estimators=10; total time=   0.3s\n",
            "[CV] END algorithm=SAMME.R, learning_rate=0.01, n_estimators=10; total time=   0.3s\n",
            "[CV] END algorithm=SAMME.R, learning_rate=0.01, n_estimators=50; total time=   1.5s\n",
            "[CV] END algorithm=SAMME.R, learning_rate=0.01, n_estimators=50; total time=   1.4s\n",
            "[CV] END algorithm=SAMME.R, learning_rate=0.01, n_estimators=100; total time=   2.9s\n",
            "[CV] END algorithm=SAMME.R, learning_rate=0.01, n_estimators=100; total time=   2.9s\n",
            "[CV] END algorithm=SAMME.R, learning_rate=0.01, n_estimators=500; total time=  14.4s\n",
            "[CV] END algorithm=SAMME.R, learning_rate=0.01, n_estimators=500; total time=  14.4s\n",
            "[CV] END algorithm=SAMME.R, learning_rate=0.1, n_estimators=10; total time=   0.3s\n",
            "[CV] END algorithm=SAMME.R, learning_rate=0.1, n_estimators=10; total time=   0.3s\n",
            "[CV] END algorithm=SAMME.R, learning_rate=0.1, n_estimators=50; total time=   1.4s\n",
            "[CV] END algorithm=SAMME.R, learning_rate=0.1, n_estimators=50; total time=   1.5s\n",
            "[CV] END algorithm=SAMME.R, learning_rate=0.1, n_estimators=100; total time=   2.9s\n",
            "[CV] END algorithm=SAMME.R, learning_rate=0.1, n_estimators=100; total time=   2.9s\n",
            "[CV] END algorithm=SAMME.R, learning_rate=0.1, n_estimators=500; total time=  15.9s\n",
            "[CV] END algorithm=SAMME.R, learning_rate=0.1, n_estimators=500; total time=  14.3s\n",
            "[CV] END algorithm=SAMME.R, learning_rate=1.0, n_estimators=10; total time=   0.3s\n",
            "[CV] END algorithm=SAMME.R, learning_rate=1.0, n_estimators=10; total time=   0.3s\n",
            "[CV] END algorithm=SAMME.R, learning_rate=1.0, n_estimators=50; total time=   1.5s\n",
            "[CV] END algorithm=SAMME.R, learning_rate=1.0, n_estimators=50; total time=   1.5s\n",
            "[CV] END algorithm=SAMME.R, learning_rate=1.0, n_estimators=100; total time=   2.9s\n",
            "[CV] END algorithm=SAMME.R, learning_rate=1.0, n_estimators=100; total time=   2.9s\n",
            "[CV] END algorithm=SAMME.R, learning_rate=1.0, n_estimators=500; total time=  14.3s\n",
            "[CV] END algorithm=SAMME.R, learning_rate=1.0, n_estimators=500; total time=  14.3s\n",
            "\n",
            "\n",
            "Best parameters are: \n",
            "{'algorithm': 'SAMME.R', 'learning_rate': 0.1, 'n_estimators': 500}\n"
          ]
        }
      ]
    },
    {
      "cell_type": "code",
      "source": [
        "ao_train_accuracy, ao_test_accuracy, ao_train_auc, ao_test_auc=check_scores(ada_optimal_model,x_train,x_test, y_train, y_test)"
      ],
      "metadata": {
        "colab": {
          "base_uri": "https://localhost:8080/",
          "height": 743
        },
        "id": "CiLgmKqcU_4Y",
        "outputId": "a219ba5a-2306-4ffe-d05b-f65b1b7ecb0b"
      },
      "execution_count": 49,
      "outputs": [
        {
          "output_type": "stream",
          "name": "stdout",
          "text": [
            "Train confusion matrix is: \n",
            "[[6761   94]\n",
            " [1043  757]]\n",
            "\n",
            "Test confusion matrix is: \n",
            "[[2278   45]\n",
            " [ 340  223]]\n",
            "\n",
            "              precision    recall  f1-score   support\n",
            "\n",
            "           0       0.87      0.98      0.92      2323\n",
            "           1       0.83      0.40      0.54       563\n",
            "\n",
            "    accuracy                           0.87      2886\n",
            "   macro avg       0.85      0.69      0.73      2886\n",
            "weighted avg       0.86      0.87      0.85      2886\n",
            "\n",
            "\n",
            "Train accuracy score:  0.868630849220104\n",
            "Test accuracy score:  0.8665973665973666\n",
            "\n",
            "Train ROC-AUC score:  0.9218550936056407\n",
            "Test ROC-AUC score:  0.8779339205061136\n",
            "\n",
            "Are under Precision-Recall curve: 0.5367027677496993\n",
            "Area under ROC-AUC: 0.7021179688268547\n"
          ]
        },
        {
          "output_type": "display_data",
          "data": {
            "text/plain": [
              "<Figure size 432x288 with 2 Axes>"
            ],
            "image/png": "[encoded data removed]"
          },
          "metadata": {
            "needs_background": "light"
          }
        }
      ]
    },
    {
      "cell_type": "markdown",
      "source": [
        "**Bagging with MultinomialNB**"
      ],
      "metadata": {
        "id": "F85X6j1faQBc"
      }
    },
    {
      "cell_type": "code",
      "source": [
        "kfold = model_selection.KFold(n_splits = 3)\n",
        "  \n",
        "# bagging classifier\n",
        "model = BaggingClassifier(base_estimator = MultinomialNB(),\n",
        "                          n_estimators = 100)\n",
        "\n",
        "b_train_accuracy, b_test_accuracy, b_train_auc, b_test_auc= check_scores(model,x_train,x_test, y_train, y_test)"
      ],
      "metadata": {
        "colab": {
          "base_uri": "https://localhost:8080/",
          "height": 743
        },
        "id": "EtbkRMvgU_8W",
        "outputId": "01ca0a7c-3074-41cb-9d93-5cde8d5b82e6"
      },
      "execution_count": 50,
      "outputs": [
        {
          "output_type": "stream",
          "name": "stdout",
          "text": [
            "Train confusion matrix is: \n",
            "[[6853    2]\n",
            " [1321  479]]\n",
            "\n",
            "Test confusion matrix is: \n",
            "[[2318    5]\n",
            " [ 475   88]]\n",
            "\n",
            "              precision    recall  f1-score   support\n",
            "\n",
            "           0       0.83      1.00      0.91      2323\n",
            "           1       0.95      0.16      0.27       563\n",
            "\n",
            "    accuracy                           0.83      2886\n",
            "   macro avg       0.89      0.58      0.59      2886\n",
            "weighted avg       0.85      0.83      0.78      2886\n",
            "\n",
            "\n",
            "Train accuracy score:  0.8471403812824957\n",
            "Test accuracy score:  0.8336798336798337\n",
            "\n",
            "Train ROC-AUC score:  0.9525660102115243\n",
            "Test ROC-AUC score:  0.8998607637426033\n",
            "\n",
            "Are under Precision-Recall curve: 0.2682926829268293\n",
            "Area under ROC-AUC: 0.7339642416509714\n"
          ]
        },
        {
          "output_type": "display_data",
          "data": {
            "text/plain": [
              "<Figure size 432x288 with 2 Axes>"
            ],
            "image/png": "[encoded data removed]"
          },
          "metadata": {
            "needs_background": "light"
          }
        }
      ]
    },
    {
      "cell_type": "markdown",
      "source": [
        "**Random Forest classifer**"
      ],
      "metadata": {
        "id": "C1FCSRC5ax0V"
      }
    },
    {
      "cell_type": "code",
      "source": [
        "r_train_accuracy, r_test_accuracy, r_train_auc, r_test_auc= check_scores(RandomForestClassifier(random_state=0).fit(x_train, y_train), x_train,x_test,y_train,y_test)"
      ],
      "metadata": {
        "colab": {
          "base_uri": "https://localhost:8080/",
          "height": 743
        },
        "id": "5tGF5EMDZ4he",
        "outputId": "f3a88774-cc4f-4c20-b610-541d9bee5c2b"
      },
      "execution_count": 51,
      "outputs": [
        {
          "output_type": "stream",
          "name": "stdout",
          "text": [
            "Train confusion matrix is: \n",
            "[[6829   26]\n",
            " [   5 1795]]\n",
            "\n",
            "Test confusion matrix is: \n",
            "[[2215  108]\n",
            " [ 238  325]]\n",
            "\n",
            "              precision    recall  f1-score   support\n",
            "\n",
            "           0       0.90      0.95      0.93      2323\n",
            "           1       0.75      0.58      0.65       563\n",
            "\n",
            "    accuracy                           0.88      2886\n",
            "   macro avg       0.83      0.77      0.79      2886\n",
            "weighted avg       0.87      0.88      0.87      2886\n",
            "\n",
            "\n",
            "Train accuracy score:  0.996418255343732\n",
            "Test accuracy score:  0.8801108801108801\n",
            "\n",
            "Train ROC-AUC score:  0.9982442661479861\n",
            "Test ROC-AUC score:  0.8956867344777572\n",
            "\n",
            "Are under Precision-Recall curve: 0.6526104417670683\n",
            "Area under ROC-AUC: 0.7441899264879837\n"
          ]
        },
        {
          "output_type": "display_data",
          "data": {
            "text/plain": [
              "<Figure size 432x288 with 2 Axes>"
            ],
            "image/png": "[encoded data removed]"
          },
          "metadata": {
            "needs_background": "light"
          }
        }
      ]
    },
    {
      "cell_type": "markdown",
      "source": [
        "Neural Network: **LSTM**"
      ],
      "metadata": {
        "id": "Zo1nizIdbPyr"
      }
    },
    {
      "cell_type": "code",
      "source": [
        "corpus = [df['cleaned_tweet'][i] for i in range( len(df))]\n",
        "\n",
        "voc_size=5000\n",
        "\n",
        "onehot_=[one_hot(words,voc_size)for words in corpus] \n",
        "\n",
        "max_sent_length=max([len(i) for i in corpus])\n",
        "\n",
        "embedded_docs=pad_sequences(onehot_,padding='pre',maxlen=max_sent_length)\n",
        "    \n",
        "embedding_vector_features=40\n",
        "model=Sequential()\n",
        "model.add(Embedding(voc_size,embedding_vector_features,input_length=max_sent_length))\n",
        "model.add(Dropout(0.3))\n",
        "model.add(LSTM(100))\n",
        "model.add(Dropout(0.3))\n",
        "model.add(Dense(1,activation='sigmoid'))\n",
        "model.compile(loss='binary_crossentropy',optimizer='adam',metrics=['accuracy'])\n",
        "\n",
        "X_final=np.array(embedded_docs)\n",
        "y_final=np.array(df['airline_sentiment'])\n",
        "X_final.shape,y_final.shape"
      ],
      "metadata": {
        "colab": {
          "base_uri": "https://localhost:8080/"
        },
        "id": "pgscV3ZJZ4s7",
        "outputId": "5f76e661-8aba-4823-c2a7-535e986c8021"
      },
      "execution_count": 64,
      "outputs": [
        {
          "output_type": "execute_result",
          "data": {
            "text/plain": [
              "((11541, 124), (11541,))"
            ]
          },
          "metadata": {},
          "execution_count": 64
        }
      ]
    },
    {
      "cell_type": "code",
      "source": [
        "X_train, X_test, y_train, y_test = train_test_split(X_final, y_final, test_size=0.33, random_state=42)\n",
        "model.fit(X_train,y_train,validation_data=(X_test,y_test),epochs=10,batch_size=64)"
      ],
      "metadata": {
        "colab": {
          "base_uri": "https://localhost:8080/"
        },
        "id": "iKz7udDdZ45L",
        "outputId": "d7df0fcc-b60d-4412-be00-623c711010de"
      },
      "execution_count": 65,
      "outputs": [
        {
          "output_type": "stream",
          "name": "stdout",
          "text": [
            "Epoch 1/10\n",
            "121/121 [==============================] - 25s 185ms/step - loss: 0.4583 - accuracy: 0.8090 - val_loss: 0.3335 - val_accuracy: 0.8609\n",
            "Epoch 2/10\n",
            "121/121 [==============================] - 22s 178ms/step - loss: 0.2692 - accuracy: 0.8905 - val_loss: 0.2895 - val_accuracy: 0.8858\n",
            "Epoch 3/10\n",
            "121/121 [==============================] - 21s 177ms/step - loss: 0.1965 - accuracy: 0.9240 - val_loss: 0.2898 - val_accuracy: 0.8868\n",
            "Epoch 4/10\n",
            "121/121 [==============================] - 23s 188ms/step - loss: 0.1597 - accuracy: 0.9368 - val_loss: 0.3345 - val_accuracy: 0.8845\n",
            "Epoch 5/10\n",
            "121/121 [==============================] - 30s 245ms/step - loss: 0.1334 - accuracy: 0.9520 - val_loss: 0.3496 - val_accuracy: 0.8800\n",
            "Epoch 6/10\n",
            "121/121 [==============================] - 22s 180ms/step - loss: 0.1152 - accuracy: 0.9590 - val_loss: 0.4127 - val_accuracy: 0.8727\n",
            "Epoch 7/10\n",
            "121/121 [==============================] - 29s 237ms/step - loss: 0.0989 - accuracy: 0.9656 - val_loss: 0.4207 - val_accuracy: 0.8732\n",
            "Epoch 8/10\n",
            "121/121 [==============================] - 28s 234ms/step - loss: 0.0863 - accuracy: 0.9696 - val_loss: 0.4709 - val_accuracy: 0.8724\n",
            "Epoch 9/10\n",
            "121/121 [==============================] - 29s 239ms/step - loss: 0.0733 - accuracy: 0.9735 - val_loss: 0.5041 - val_accuracy: 0.8672\n",
            "Epoch 10/10\n",
            "121/121 [==============================] - 22s 181ms/step - loss: 0.0681 - accuracy: 0.9753 - val_loss: 0.5332 - val_accuracy: 0.8672\n"
          ]
        },
        {
          "output_type": "execute_result",
          "data": {
            "text/plain": [
              "<keras.callbacks.History at 0x7f8f10f7b850>"
            ]
          },
          "metadata": {},
          "execution_count": 65
        }
      ]
    },
    {
      "cell_type": "code",
      "source": [
        "y_test_pred=model.predict(X_test)\n",
        "y_train_pred=model.predict(X_train)"
      ],
      "metadata": {
        "id": "2X6KEAU9bm7U"
      },
      "execution_count": 66,
      "outputs": []
    },
    {
      "cell_type": "code",
      "source": [
        "test_acc_lstm = accuracy_score(y_test,y_test_pred)\n",
        "train_acc_lstm = accuracy_score(y_train,y_train_pred)\n",
        "test_roc_lstm = roc_auc_score(y_test,y_test_pred)\n",
        "train_roc_lstm = roc_auc_score(y_train,y_train_pred)"
      ],
      "metadata": {
        "id": "lj7DWgktbm_r"
      },
      "execution_count": null,
      "outputs": []
    },
    {
      "cell_type": "markdown",
      "source": [
        "**Bidirectional LSTM**"
      ],
      "metadata": {
        "id": "tEgFIT3ycguE"
      }
    },
    {
      "cell_type": "code",
      "source": [
        "from keras.models import Sequential\n",
        "from keras.layers import Embedding, Conv1D, MaxPooling1D, Bidirectional, LSTM, Dense, Dropout\n",
        "from keras.metrics import Precision, Recall\n",
        "from tensorflow.keras.optimizers import SGD\n",
        "#from keras.optimizers import SGD\n",
        "from tensorflow.keras.optimizers import RMSprop\n",
        "from keras import datasets\n",
        "\n",
        "from keras.callbacks import LearningRateScheduler\n",
        "from keras.callbacks import History\n",
        "\n",
        "from keras import losses\n",
        "\n",
        "vocab_size = 5000\n",
        "embedding_size = 32\n",
        "epochs=10\n",
        "learning_rate = 0.1\n",
        "decay_rate = learning_rate / epochs\n",
        "momentum = 0.8\n",
        "max_len=50\n",
        "\n",
        "sgd = SGD(lr=learning_rate, momentum=momentum, decay=decay_rate, nesterov=False)\n",
        "# Build model\n",
        "model= Sequential()\n",
        "model.add(Embedding(vocab_size, embedding_size, input_length=max_len))\n",
        "model.add(Conv1D(filters=32, kernel_size=3, padding='same', activation='relu'))\n",
        "model.add(MaxPooling1D(pool_size=2))\n",
        "model.add(Bidirectional(LSTM(32)))\n",
        "model.add(Dropout(0.4))\n",
        "model.add(Dense(3, activation='softmax'))"
      ],
      "metadata": {
        "colab": {
          "base_uri": "https://localhost:8080/"
        },
        "id": "xfymqDIGbnEs",
        "outputId": "8555826c-1a58-40ba-c9b7-f73ad597370e"
      },
      "execution_count": 70,
      "outputs": [
        {
          "output_type": "stream",
          "name": "stderr",
          "text": [
            "/usr/local/lib/python3.7/dist-packages/keras/optimizer_v2/gradient_descent.py:102: UserWarning: The `lr` argument is deprecated, use `learning_rate` instead.\n",
            "  super(SGD, self).__init__(name, **kwargs)\n"
          ]
        }
      ]
    },
    {
      "cell_type": "code",
      "source": [
        "import tensorflow as tf\n",
        "tf.keras.utils.plot_model(model, show_shapes=True)"
      ],
      "metadata": {
        "colab": {
          "base_uri": "https://localhost:8080/",
          "height": 754
        },
        "id": "457Tr5b2bnIU",
        "outputId": "efcd5593-a095-4d65-944c-7276617b00b3"
      },
      "execution_count": 71,
      "outputs": [
        {
          "output_type": "execute_result",
          "data": {
            "text/plain": [
              "<IPython.core.display.Image object>"
            ],
            "image/png": "[encoded data removed]"
          },
          "metadata": {},
          "execution_count": 71
        }
      ]
    },
    {
      "cell_type": "code",
      "source": [
        "print(model.summary())\n",
        "\n",
        "# Compile model\n",
        "model.compile(loss='categorical_crossentropy', optimizer=sgd, \n",
        "               metrics=['accuracy', Precision(), Recall()])\n",
        "\n",
        "# Train model\n",
        "\n",
        "batch_size = 64\n",
        "history = model.fit(X_train, y_train,\n",
        "                      validation_data=(X_test,y_test),\n",
        "                      batch_size=batch_size, epochs=epochs, verbose=1)"
      ],
      "metadata": {
        "id": "e5UnZvhRbnMU"
      },
      "execution_count": null,
      "outputs": []
    },
    {
      "cell_type": "markdown",
      "source": [
        "**Summary**"
      ],
      "metadata": {
        "id": "89Dhjr9whikN"
      }
    },
    {
      "cell_type": "code",
      "source": [
        "data = [('Random Forest', r_train_accuracy, r_test_accuracy, r_train_auc, r_test_auc),\n",
        " ('MultinomialNB',m_train_accuracy, m_test_accuracy, m_train_auc, m_test_auc  ),\n",
        "('Bagged MultinomialNB',b_train_accuracy, b_test_accuracy, b_train_auc, b_test_auc ),\n",
        " ('AdaBoost',a_train_accuracy, a_test_accuracy, a_train_auc, a_test_auc ),\n",
        "('AdaBoost Optimized',ao_train_accuracy, ao_test_accuracy, ao_train_auc, ao_test_auc),\n",
        "('Gaussian Naive Bayes',g_train_accuracy, g_test_accuracy, g_train_auc, g_test_auc),\n",
        "('SVM', s_train_accuracy, s_test_accuracy, s_train_auc, s_test_auc),\n",
        "('SVM Optimized', so_train_accuracy, so_test_accuracy, so_train_auc, so_test_auc)\n",
        "#('LSTM',train_acc_lstm, test_acc_lstm, train_roc_lstm, test_roc_lstm )\n",
        "       ]\n",
        "\n",
        "\n",
        "Scores_ =pd.DataFrame(data = data, columns=['Model Name','Train Accuracy', 'Test Accuracy', 'Train ROC', 'Test ROC'])\n",
        "Scores_.set_index('Model Name', inplace = True)\n",
        "\n",
        "Scores_"
      ],
      "metadata": {
        "colab": {
          "base_uri": "https://localhost:8080/",
          "height": 332
        },
        "id": "TE-cvy00bnQv",
        "outputId": "56f6b073-4315-400d-b160-319ac58cc9d1"
      },
      "execution_count": 77,
      "outputs": [
        {
          "output_type": "execute_result",
          "data": {
            "text/plain": [
              "                      Train Accuracy  Test Accuracy  Train ROC  Test ROC\n",
              "Model Name                                                              \n",
              "Random Forest               0.996418       0.880111   0.998244  0.895687\n",
              "MultinomialNB               0.850029       0.834026   0.956111  0.901301\n",
              "Bagged MultinomialNB        0.847140       0.833680   0.952566  0.899861\n",
              "AdaBoost                    0.859965       0.861400   0.868948  0.837380\n",
              "AdaBoost Optimized          0.868631       0.866597   0.921855  0.877934\n",
              "Gaussian Naive Bayes        0.848411       0.694733   0.904303  0.688587\n",
              "SVM                         0.978972       0.886348   0.996906  0.929138\n",
              "SVM Optimized               0.996418       0.897436   0.998731  0.928777"
            ],
            "text/html": [
              "\n",
              "  <div id=\"df-19f9e992-120e-4584-8d0a-adfc1da3d45c\">\n",
              "    <div class=\"colab-df-container\">\n",
              "      <div>\n",
              "<style scoped>\n",
              "    .dataframe tbody tr th:only-of-type {\n",
              "        vertical-align: middle;\n",
              "    }\n",
              "\n",
              "    .dataframe tbody tr th {\n",
              "        vertical-align: top;\n",
              "    }\n",
              "\n",
              "    .dataframe thead th {\n",
              "        text-align: right;\n",
              "    }\n",
              "</style>\n",
              "<table border=\"1\" class=\"dataframe\">\n",
              "  <thead>\n",
              "    <tr style=\"text-align: right;\">\n",
              "      <th></th>\n",
              "      <th>Train Accuracy</th>\n",
              "      <th>Test Accuracy</th>\n",
              "      <th>Train ROC</th>\n",
              "      <th>Test ROC</th>\n",
              "    </tr>\n",
              "    <tr>\n",
              "      <th>Model Name</th>\n",
              "      <th></th>\n",
              "      <th></th>\n",
              "      <th></th>\n",
              "      <th></th>\n",
              "    </tr>\n",
              "  </thead>\n",
              "  <tbody>\n",
              "    <tr>\n",
              "      <th>Random Forest</th>\n",
              "      <td>0.996418</td>\n",
              "      <td>0.880111</td>\n",
              "      <td>0.998244</td>\n",
              "      <td>0.895687</td>\n",
              "    </tr>\n",
              "    <tr>\n",
              "      <th>MultinomialNB</th>\n",
              "      <td>0.850029</td>\n",
              "      <td>0.834026</td>\n",
              "      <td>0.956111</td>\n",
              "      <td>0.901301</td>\n",
              "    </tr>\n",
              "    <tr>\n",
              "      <th>Bagged MultinomialNB</th>\n",
              "      <td>0.847140</td>\n",
              "      <td>0.833680</td>\n",
              "      <td>0.952566</td>\n",
              "      <td>0.899861</td>\n",
              "    </tr>\n",
              "    <tr>\n",
              "      <th>AdaBoost</th>\n",
              "      <td>0.859965</td>\n",
              "      <td>0.861400</td>\n",
              "      <td>0.868948</td>\n",
              "      <td>0.837380</td>\n",
              "    </tr>\n",
              "    <tr>\n",
              "      <th>AdaBoost Optimized</th>\n",
              "      <td>0.868631</td>\n",
              "      <td>0.866597</td>\n",
              "      <td>0.921855</td>\n",
              "      <td>0.877934</td>\n",
              "    </tr>\n",
              "    <tr>\n",
              "      <th>Gaussian Naive Bayes</th>\n",
              "      <td>0.848411</td>\n",
              "      <td>0.694733</td>\n",
              "      <td>0.904303</td>\n",
              "      <td>0.688587</td>\n",
              "    </tr>\n",
              "    <tr>\n",
              "      <th>SVM</th>\n",
              "      <td>0.978972</td>\n",
              "      <td>0.886348</td>\n",
              "      <td>0.996906</td>\n",
              "      <td>0.929138</td>\n",
              "    </tr>\n",
              "    <tr>\n",
              "      <th>SVM Optimized</th>\n",
              "      <td>0.996418</td>\n",
              "      <td>0.897436</td>\n",
              "      <td>0.998731</td>\n",
              "      <td>0.928777</td>\n",
              "    </tr>\n",
              "  </tbody>\n",
              "</table>\n",
              "</div>\n",
              "      <button class=\"colab-df-convert\" onclick=\"convertToInteractive('df-19f9e992-120e-4584-8d0a-adfc1da3d45c')\"\n",
              "              title=\"Convert this dataframe to an interactive table.\"\n",
              "              style=\"display:none;\">\n",
              "        \n",
              "  <svg xmlns=\"http://www.w3.org/2000/svg\" height=\"24px\"viewBox=\"0 0 24 24\"\n",
              "       width=\"24px\">\n",
              "    <path d=\"M0 0h24v24H0V0z\" fill=\"none\"/>\n",
              "    <path d=\"M18.56 5.44l.94 2.06.94-2.06 2.06-.94-2.06-.94-.94-2.06-.94 2.06-2.06.94zm-11 1L8.5 8.5l.94-2.06 2.06-.94-2.06-.94L8.5 2.5l-.94 2.06-2.06.94zm10 10l.94 2.06.94-2.06 2.06-.94-2.06-.94-.94-2.06-.94 2.06-2.06.94z\"/><path d=\"M17.41 7.96l-1.37-1.37c-.4-.4-.92-.59-1.43-.59-.52 0-1.04.2-1.43.59L10.3 9.45l-7.72 7.72c-.78.78-.78 2.05 0 2.83L4 21.41c.39.39.9.59 1.41.59.51 0 1.02-.2 1.41-.59l7.78-7.78 2.81-2.81c.8-.78.8-2.07 0-2.86zM5.41 20L4 18.59l7.72-7.72 1.47 1.35L5.41 20z\"/>\n",
              "  </svg>\n",
              "      </button>\n",
              "      \n",
              "  <style>\n",
              "    .colab-df-container {\n",
              "      display:flex;\n",
              "      flex-wrap:wrap;\n",
              "      gap: 12px;\n",
              "    }\n",
              "\n",
              "    .colab-df-convert {\n",
              "      background-color: #E8F0FE;\n",
              "      border: none;\n",
              "      border-radius: 50%;\n",
              "      cursor: pointer;\n",
              "      display: none;\n",
              "      fill: #1967D2;\n",
              "      height: 32px;\n",
              "      padding: 0 0 0 0;\n",
              "      width: 32px;\n",
              "    }\n",
              "\n",
              "    .colab-df-convert:hover {\n",
              "      background-color: #E2EBFA;\n",
              "      box-shadow: 0px 1px 2px rgba(60, 64, 67, 0.3), 0px 1px 3px 1px rgba(60, 64, 67, 0.15);\n",
              "      fill: #174EA6;\n",
              "    }\n",
              "\n",
              "    [theme=dark] .colab-df-convert {\n",
              "      background-color: #3B4455;\n",
              "      fill: #D2E3FC;\n",
              "    }\n",
              "\n",
              "    [theme=dark] .colab-df-convert:hover {\n",
              "      background-color: #434B5C;\n",
              "      box-shadow: 0px 1px 3px 1px rgba(0, 0, 0, 0.15);\n",
              "      filter: drop-shadow(0px 1px 2px rgba(0, 0, 0, 0.3));\n",
              "      fill: #FFFFFF;\n",
              "    }\n",
              "  </style>\n",
              "\n",
              "      <script>\n",
              "        const buttonEl =\n",
              "          document.querySelector('#df-19f9e992-120e-4584-8d0a-adfc1da3d45c button.colab-df-convert');\n",
              "        buttonEl.style.display =\n",
              "          google.colab.kernel.accessAllowed ? 'block' : 'none';\n",
              "\n",
              "        async function convertToInteractive(key) {\n",
              "          const element = document.querySelector('#df-19f9e992-120e-4584-8d0a-adfc1da3d45c');\n",
              "          const dataTable =\n",
              "            await google.colab.kernel.invokeFunction('convertToInteractive',\n",
              "                                                     [key], {});\n",
              "          if (!dataTable) return;\n",
              "\n",
              "          const docLinkHtml = 'Like what you see? Visit the ' +\n",
              "            '<a target=\"_blank\" href=https://colab.research.google.com/notebooks/data_table.ipynb>data table notebook</a>'\n",
              "            + ' to learn more about interactive tables.';\n",
              "          element.innerHTML = '';\n",
              "          dataTable['output_type'] = 'display_data';\n",
              "          await google.colab.output.renderOutput(dataTable, element);\n",
              "          const docLink = document.createElement('div');\n",
              "          docLink.innerHTML = docLinkHtml;\n",
              "          element.appendChild(docLink);\n",
              "        }\n",
              "      </script>\n",
              "    </div>\n",
              "  </div>\n",
              "  "
            ]
          },
          "metadata": {},
          "execution_count": 77
        }
      ]
    },
    {
      "cell_type": "markdown",
      "metadata": {
        "id": "Z7U6hNbVjhlZ"
      },
      "source": [
        "### **4. Splitting the data for Classification**\n",
        "\n",
        "The data splitting is done in 80-20 split using trian_test_split method of sklearn."
      ]
    },
    {
      "cell_type": "code",
      "metadata": {
        "id": "Pduz91hcjhlb",
        "outputId": "4c179990-4b7d-4809-c4cf-7a308c0072e1",
        "colab": {
          "base_uri": "https://localhost:8080/"
        }
      },
      "source": [
        "#splitting the data into 80 and 20 split\n",
        "train_X, test_X, y_train, y_test = train_test_split(data, labels, test_size=0.2, \n",
        "                                                    random_state=42, shuffle=True)\n",
        "\n",
        "print(f'Number of training examples: {len(train_X)}')\n",
        "print(f'Number of testing examples: {len(test_X)}')"
      ],
      "execution_count": null,
      "outputs": [
        {
          "output_type": "stream",
          "name": "stdout",
          "text": [
            "Number of training examples: 11712\n",
            "Number of testing examples: 2928\n"
          ]
        }
      ]
    },
    {
      "cell_type": "markdown",
      "metadata": {
        "id": "QAL7fbwWs-1P"
      },
      "source": [
        "See you with another classifier :)"
      ]
    }
  ]
}